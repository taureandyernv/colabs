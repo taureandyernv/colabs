{
  "nbformat": 4,
  "nbformat_minor": 0,
  "metadata": {
    "colab": {
      "name": "knn_demo_colab-0.8.ipynb",
      "version": "0.3.2",
      "provenance": [],
      "collapsed_sections": [],
      "include_colab_link": true
    },
    "kernelspec": {
      "name": "python3",
      "display_name": "Python 3"
    },
    "accelerator": "GPU"
  },
  "cells": [
    {
      "cell_type": "markdown",
      "metadata": {
        "id": "view-in-github",
        "colab_type": "text"
      },
      "source": [
        "<a href=\"https://colab.research.google.com/github/Sterls/colabs/blob/master/knn_demo_colab_0_8.ipynb\" target=\"_parent\"><img src=\"https://colab.research.google.com/assets/colab-badge.svg\" alt=\"Open In Colab\"/></a>"
      ]
    },
    {
      "cell_type": "markdown",
      "metadata": {
        "id": "N5PnFojSzkXP",
        "colab_type": "text"
      },
      "source": [
        "# KNN #\n",
        "\n",
        "\n",
        "K NearestNeighbors is a unsupervised algorithm where if one wants to find the “closest” datapoint(s) to new unseen data, one can calculate a suitable “distance” between each and every point, and return the top K datapoints which have the smallest distance to it.\n",
        "\n",
        "\n",
        "cuML’s KNN expects a cuDF DataFrame or a Numpy Array (where automatic chunking will be done in to a Numpy Array in a future release), and fits a special data structure first to approximate the distance calculations, allowing our querying times to be O(plogn) and not the brute force O(np) [where p = no(features)]:\n",
        "\n",
        "The KNN function accepts the following parameters:\n",
        "\n",
        "\n",
        "1.  n_neighbors: int (default = 5). The top K closest datapoints you want the algorithm to return. If this number is large, then expect the algorithm to run slower.\n",
        "2.  should_downcast:bool (default = False). Currently only single precision is supported in the underlying undex. Setting this to true will allow single-precision input arrays to be automatically downcasted to single precision. Default = False.\n",
        "\n",
        "\n",
        "\n",
        "\n",
        "The methods that can be used with KNN are:\n",
        "\n",
        "1. fit: Fit GPU index for performing nearest neighbor queries.\n",
        "2. kneighbors: Query the GPU index for the k nearest neighbors of row vectors in X.\n",
        "\n",
        "The model accepts only numpy arrays or cudf dataframes as the input. In order to convert your dataset to cudf format please read the cudf documentation on https://rapidsai.github.io/projects/cudf/en/latest/. For additional information on the K NearestNeighbors model please refer to the documentation on https://rapidsai.github.io/projects/cuml/en/latest/api.html#nearest-neighbors"
      ]
    },
    {
      "cell_type": "markdown",
      "metadata": {
        "id": "CtNdk7PSafKP",
        "colab_type": "text"
      },
      "source": [
        "#Setup:\n",
        "\n",
        "\n",
        "\n",
        "1.  Install most recent Miniconda release compatible with Google Colab's Python install (3.6.7)\n",
        "2.  Install RAPIDS libraries\n",
        "3. Set necessary environment variables\n",
        "4. Copy RAPIDS .so files into current working directory, a workaround for conda/colab interactions\n",
        "\n",
        "\n",
        "\n"
      ]
    },
    {
      "cell_type": "code",
      "metadata": {
        "id": "KFOPuq_R2EUW",
        "colab_type": "code",
        "colab": {}
      },
      "source": [
        "# intall miniconda\n",
        "!wget -c https://repo.continuum.io/miniconda/Miniconda3-4.5.4-Linux-x86_64.sh\n",
        "!chmod +x Miniconda3-4.5.4-Linux-x86_64.sh\n",
        "!bash ./Miniconda3-4.5.4-Linux-x86_64.sh -b -f -p /usr/local\n",
        "\n",
        "# install RAPIDS packages\n",
        "!conda install -q -y --prefix /usr/local -c conda-forge \\\n",
        "  -c rapidsai-nightly/label/cuda10.0 -c nvidia/label/cuda10.0 \\\n",
        "  cudf cuml\n",
        "\n",
        "# set environment vars\n",
        "import sys, os, shutil\n",
        "sys.path.append('/usr/local/lib/python3.6/site-packages/')\n",
        "os.environ['NUMBAPRO_NVVM'] = '/usr/local/cuda/nvvm/lib64/libnvvm.so'\n",
        "os.environ['NUMBAPRO_LIBDEVICE'] = '/usr/local/cuda/nvvm/libdevice/'\n",
        "\n",
        "# copy .so files to current working dir\n",
        "for fn in ['libcudf.so', 'librmm.so']:\n",
        "  shutil.copy('/usr/local/lib/'+fn, os.getcwd())"
      ],
      "execution_count": 0,
      "outputs": []
    },
    {
      "cell_type": "code",
      "metadata": {
        "id": "17O9gPwsznvH",
        "colab_type": "code",
        "colab": {}
      },
      "source": [
        "import numpy as np\n",
        "import pandas as pd\n",
        "import cudf\n",
        "import os\n",
        "\n",
        "from sklearn.neighbors import NearestNeighbors as skKNN\n",
        "from cuml.neighbors.nearest_neighbors import NearestNeighbors as cumlKNN"
      ],
      "execution_count": 0,
      "outputs": []
    },
    {
      "cell_type": "markdown",
      "metadata": {
        "id": "b4eHQUC10eAB",
        "colab_type": "text"
      },
      "source": [
        "#Helper Functions#"
      ]
    },
    {
      "cell_type": "code",
      "metadata": {
        "id": "CuKwAWWl0aS-",
        "colab_type": "code",
        "colab": {}
      },
      "source": [
        "# check if the mortgage dataset is present and then extract the data from it, else just create a random dataset for clustering \n",
        "import gzip\n",
        "# change the path of the mortgage dataset if you have saved it in a different directory\n",
        "def load_data(nrows, ncols, cached = 'data/mortgage.npy.gz',source='mortgage'):\n",
        "    if os.path.exists(cached) and source=='mortgage':\n",
        "        print('use mortgage data')\n",
        "        with gzip.open(cached) as f:\n",
        "            X = np.load(f)\n",
        "        X = X[np.random.randint(0,X.shape[0]-1,nrows),:ncols]\n",
        "    else:\n",
        "        # create a random dataset\n",
        "        print('use random data')\n",
        "        X = np.random.random((nrows,ncols)).astype('float32')\n",
        "    df = pd.DataFrame({'fea%d'%i:X[:,i] for i in range(X.shape[1])}).fillna(0)\n",
        "    return df"
      ],
      "execution_count": 0,
      "outputs": []
    },
    {
      "cell_type": "code",
      "metadata": {
        "id": "HHe-VIrP0kAU",
        "colab_type": "code",
        "colab": {}
      },
      "source": [
        "from sklearn.metrics import mean_squared_error\n",
        "# this function checks if the results obtained from two different methods (sklearn and cuml) are the same\n",
        "def array_equal(a,b,threshold=1e-3,with_sign=True,metric='mse'):\n",
        "    a = to_nparray(a)\n",
        "    b = to_nparray(b)\n",
        "    if with_sign == False:\n",
        "        a,b = np.abs(a),np.abs(b)\n",
        "    if metric=='mse':\n",
        "        error = mean_squared_error(a,b)\n",
        "        res = error<threshold\n",
        "    elif metric=='abs':\n",
        "        error = a-b\n",
        "        res = len(error[error>threshold]) == 0\n",
        "    elif metric == 'acc':\n",
        "        error = np.sum(a!=b)/(a.shape[0]*a.shape[1])\n",
        "        res = error<threshold\n",
        "    return res\n",
        "\n",
        "# calculate the accuracy \n",
        "def accuracy(a,b, threshold=1e-4):\n",
        "    a = to_nparray(a)\n",
        "    b = to_nparray(b)\n",
        "    c = a-b\n",
        "    c = len(c[c>1]) / (c.shape[0]*c.shape[1])\n",
        "    return c<threshold\n",
        "\n",
        "# the function converts a variable from ndarray or dataframe format to numpy array\n",
        "def to_nparray(x):\n",
        "    if isinstance(x,np.ndarray) or isinstance(x,pd.DataFrame):\n",
        "        return np.array(x)\n",
        "    elif isinstance(x,np.float64):\n",
        "        return np.array([x])\n",
        "    elif isinstance(x,cudf.DataFrame) or isinstance(x,cudf.Series):\n",
        "        return x.to_pandas().values\n",
        "    return x"
      ],
      "execution_count": 0,
      "outputs": []
    },
    {
      "cell_type": "markdown",
      "metadata": {
        "id": "X8c_N45V0nO1",
        "colab_type": "text"
      },
      "source": [
        "#Run tests#"
      ]
    },
    {
      "cell_type": "code",
      "metadata": {
        "id": "iPN033XB0rMx",
        "colab_type": "code",
        "colab": {
          "base_uri": "https://localhost:8080/",
          "height": 86
        },
        "outputId": "0d313843-c1a5-4657-9517-8e67bec9bfca"
      },
      "source": [
        "%%time\n",
        "# nrows = number of samples\n",
        "# ncols = number of features of each sample\n",
        "\n",
        "nrows = 2**15\n",
        "ncols = 40\n",
        "\n",
        "X = load_data(nrows,ncols)\n",
        "print('data',X.shape)"
      ],
      "execution_count": 6,
      "outputs": [
        {
          "output_type": "stream",
          "text": [
            "use random data\n",
            "data (32768, 40)\n",
            "CPU times: user 27.2 ms, sys: 11.1 ms, total: 38.3 ms\n",
            "Wall time: 41.2 ms\n"
          ],
          "name": "stdout"
        }
      ]
    },
    {
      "cell_type": "code",
      "metadata": {
        "id": "UGbYmb480y1W",
        "colab_type": "code",
        "colab": {}
      },
      "source": [
        "# the number of neighbors whos labels are to be checked\n",
        "n_neighbors = 10"
      ],
      "execution_count": 0,
      "outputs": []
    },
    {
      "cell_type": "code",
      "metadata": {
        "id": "caNOquwO01rw",
        "colab_type": "code",
        "colab": {
          "base_uri": "https://localhost:8080/",
          "height": 52
        },
        "outputId": "b2b3a408-a158-4a41-d657-f654971d3ae8"
      },
      "source": [
        "%%time\n",
        "# use the sklearn KNN model to fit the dataset \n",
        "knn_sk = skKNN(metric = 'sqeuclidean', )\n",
        "knn_sk.fit(X)\n",
        "D_sk,I_sk = knn_sk.kneighbors(X,n_neighbors)"
      ],
      "execution_count": 8,
      "outputs": [
        {
          "output_type": "stream",
          "text": [
            "CPU times: user 36.4 s, sys: 1.11 s, total: 37.5 s\n",
            "Wall time: 37.5 s\n"
          ],
          "name": "stdout"
        }
      ]
    },
    {
      "cell_type": "code",
      "metadata": {
        "id": "HdP7CZmD03k-",
        "colab_type": "code",
        "colab": {
          "base_uri": "https://localhost:8080/",
          "height": 52
        },
        "outputId": "cb08e56d-91ca-42f6-c844-5b8382a137f0"
      },
      "source": [
        "%%time\n",
        "# convert the pandas dataframe to cudf dataframe\n",
        "X = cudf.DataFrame.from_pandas(X)"
      ],
      "execution_count": 9,
      "outputs": [
        {
          "output_type": "stream",
          "text": [
            "CPU times: user 770 ms, sys: 191 ms, total: 961 ms\n",
            "Wall time: 1.06 s\n"
          ],
          "name": "stdout"
        }
      ]
    },
    {
      "cell_type": "code",
      "metadata": {
        "id": "_yUMTyFe067G",
        "colab_type": "code",
        "colab": {
          "base_uri": "https://localhost:8080/",
          "height": 52
        },
        "outputId": "01b7aca2-265c-456a-ae31-d0a8943bcf28"
      },
      "source": [
        "%%time\n",
        "# use cuml's KNN model to fit the dataset\n",
        "knn_cuml = cumlKNN()\n",
        "knn_cuml.fit(X)\n",
        "\n",
        "# calculate the distance and the indices of the samples present in the dataset\n",
        "D_cuml,I_cuml = knn_cuml.kneighbors(X,n_neighbors)"
      ],
      "execution_count": 10,
      "outputs": [
        {
          "output_type": "stream",
          "text": [
            "CPU times: user 3.64 s, sys: 433 ms, total: 4.07 s\n",
            "Wall time: 4.04 s\n"
          ],
          "name": "stdout"
        }
      ]
    },
    {
      "cell_type": "code",
      "metadata": {
        "id": "NvalFiob09Ur",
        "colab_type": "code",
        "colab": {
          "base_uri": "https://localhost:8080/",
          "height": 34
        },
        "outputId": "a4f941d1-8c8c-4720-929d-0d6762e69e55"
      },
      "source": [
        "# compare the distance obtained while using sklearn and cuml models\n",
        "passed = array_equal(D_sk,D_cuml, metric='abs') # metric used can be 'acc', 'mse', or 'abs'\n",
        "message = 'compare knn: cuml vs sklearn distances %s'%('equal'if passed else 'NOT equal')\n",
        "print(message)"
      ],
      "execution_count": 11,
      "outputs": [
        {
          "output_type": "stream",
          "text": [
            "compare knn: cuml vs sklearn distances equal\n"
          ],
          "name": "stdout"
        }
      ]
    },
    {
      "cell_type": "code",
      "metadata": {
        "id": "dPUc_oxt1AxT",
        "colab_type": "code",
        "colab": {
          "base_uri": "https://localhost:8080/",
          "height": 34
        },
        "outputId": "ad850e73-ee0d-46ad-cbf4-fb98319ca0f3"
      },
      "source": [
        "# compare the labels obtained while using sklearn and cuml models\n",
        "passed = accuracy(I_sk, I_cuml, threshold=1e-1)\n",
        "message = 'compare knn: cuml vs sklearn indexes %s'%('equal'if passed else 'NOT equal')\n",
        "print(message)"
      ],
      "execution_count": 12,
      "outputs": [
        {
          "output_type": "stream",
          "text": [
            "compare knn: cuml vs sklearn indexes equal\n"
          ],
          "name": "stdout"
        }
      ]
    }
  ]
}
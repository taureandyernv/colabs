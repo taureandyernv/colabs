{
  "nbformat": 4,
  "nbformat_minor": 0,
  "metadata": {
    "kernelspec": {
      "name": "python3",
      "display_name": "Python 3"
    },
    "language_info": {
      "codemirror_mode": {
        "name": "ipython",
        "version": 3
      },
      "file_extension": ".py",
      "mimetype": "text/x-python",
      "name": "python",
      "nbconvert_exporter": "python",
      "pygments_lexer": "ipython3",
      "version": "3.6.7"
    },
    "colab": {
      "name": "airport_network_analysis_colab.ipynb",
      "provenance": [],
      "collapsed_sections": [],
      "include_colab_link": true
    },
    "accelerator": "GPU"
  },
  "cells": [
    {
      "cell_type": "markdown",
      "metadata": {
        "id": "view-in-github",
        "colab_type": "text"
      },
      "source": [
        "<a href=\"https://colab.research.google.com/github/taureandyernv/colabs/blob/master/airport_network_analysis_colab.ipynb\" target=\"_parent\"><img src=\"https://colab.research.google.com/assets/colab-badge.svg\" alt=\"Open In Colab\"/></a>"
      ]
    },
    {
      "cell_type": "markdown",
      "metadata": {
        "id": "83ctNznNqRS7",
        "colab_type": "text"
      },
      "source": [
        "# Using RAPIDS cuGraph and cuSpatial to analyze airport and flight data\n",
        "\n",
        "## Intro\n",
        "We have airports and flights datasets.  We have cuGraph and cuSpatial.  What craziness can we get up to here?\n",
        "\n",
        "We're going to use cuGraph and cuSpatial to answer these questions of our data:\n",
        "1. Which airport is the most trafficked airport in our dataset?\n",
        "1. What are the max number of plane rides (hops) do you need to take to get from the most trafficked airport to get to any other airport in our dataset?\n",
        "1. How many hops do you need to take to get from the most trafficked airport to one of the least trafficked airport?\n",
        "1. How far is that distance really?\n",
        "1. What is the topology of our airport network, based on our dataset and distance from one another?\n",
        "\n",
        "Note: The Airports data in this toy dataset is using hashed identifiers. In the beginning, this may throw you for a loop, but by the end of the notebook everything will be clearer."
      ]
    },
    {
      "cell_type": "markdown",
      "metadata": {
        "id": "8tI51PUjqnCX",
        "colab_type": "text"
      },
      "source": [
        "# Install RAPIDS\n",
        "This takes a few minutes, as RAPIDS is currently not preinstalled in Colab.  First, make sure you're running a GPU instance of Colab.  Next, we'll check to see if you are running a P100 or T4 GPU.  Restart your instance if you are not.  Finally, we'll run the RAPIDS install script."
      ]
    },
    {
      "cell_type": "code",
      "metadata": {
        "id": "TFsyACkJqt-x",
        "colab_type": "code",
        "colab": {}
      },
      "source": [
        "!nvidia-smi"
      ],
      "execution_count": 0,
      "outputs": []
    },
    {
      "cell_type": "code",
      "metadata": {
        "id": "REiRYwa7qYED",
        "colab_type": "code",
        "colab": {}
      },
      "source": [
        "# Install RAPIDS\n",
        "!wget -nc https://raw.githubusercontent.com/rapidsai/notebooks-contrib/master/utils/rapids-colab.sh\n",
        "!bash rapids-colab.sh\n",
        "\n",
        "import sys, os\n",
        "\n",
        "dist_package_index = sys.path.index(\"/usr/local/lib/python3.6/dist-packages\")\n",
        "sys.path = sys.path[:dist_package_index] + [\"/usr/local/lib/python3.6/site-packages\"] + sys.path[dist_package_index:]\n",
        "sys.path\n",
        "if os.path.exists('update_pyarrow.py'): ## This file only exists if you're using RAPIDS version 0.11 or higher\n",
        "  exec(open(\"update_pyarrow.py\").read(), globals())"
      ],
      "execution_count": 0,
      "outputs": []
    },
    {
      "cell_type": "markdown",
      "metadata": {
        "id": "5yh5YvkbqRS9",
        "colab_type": "text"
      },
      "source": [
        "## Imports and Data Gathering/Prep"
      ]
    },
    {
      "cell_type": "code",
      "metadata": {
        "id": "dWr4_9EQqRS-",
        "colab_type": "code",
        "colab": {}
      },
      "source": [
        "import pandas as pd\n",
        "import numpy as np\n",
        "import cuspatial, cugraph, cudf, cuml"
      ],
      "execution_count": 0,
      "outputs": []
    },
    {
      "cell_type": "code",
      "metadata": {
        "id": "GlnKzAr0qRTC",
        "colab_type": "code",
        "colab": {}
      },
      "source": [
        "data_dir = ''\n",
        "fdf = cudf.read_csv(data_dir+'flights.csv')\n",
        "adf = cudf.read_csv(data_dir+'airports.csv')"
      ],
      "execution_count": 0,
      "outputs": []
    },
    {
      "cell_type": "code",
      "metadata": {
        "id": "P6vpVfFcqRTE",
        "colab_type": "code",
        "outputId": "1836c770-f699-4fe9-c517-114bccc15e4b",
        "colab": {
          "base_uri": "https://localhost:8080/",
          "height": 202
        }
      },
      "source": [
        "fdf.head()"
      ],
      "execution_count": 0,
      "outputs": [
        {
          "output_type": "execute_result",
          "data": {
            "text/html": [
              "<div>\n",
              "<style scoped>\n",
              "    .dataframe tbody tr th:only-of-type {\n",
              "        vertical-align: middle;\n",
              "    }\n",
              "\n",
              "    .dataframe tbody tr th {\n",
              "        vertical-align: top;\n",
              "    }\n",
              "\n",
              "    .dataframe thead th {\n",
              "        text-align: right;\n",
              "    }\n",
              "</style>\n",
              "<table border=\"1\" class=\"dataframe\">\n",
              "  <thead>\n",
              "    <tr style=\"text-align: right;\">\n",
              "      <th></th>\n",
              "      <th>PASSENGERS</th>\n",
              "      <th>ORIGIN_AIRPORT_ID</th>\n",
              "      <th>DEST_AIRPORT_ID</th>\n",
              "    </tr>\n",
              "  </thead>\n",
              "  <tbody>\n",
              "    <tr>\n",
              "      <th>0</th>\n",
              "      <td>1</td>\n",
              "      <td>12264</td>\n",
              "      <td>10397</td>\n",
              "    </tr>\n",
              "    <tr>\n",
              "      <th>1</th>\n",
              "      <td>1</td>\n",
              "      <td>13541</td>\n",
              "      <td>12197</td>\n",
              "    </tr>\n",
              "    <tr>\n",
              "      <th>2</th>\n",
              "      <td>1</td>\n",
              "      <td>10599</td>\n",
              "      <td>12206</td>\n",
              "    </tr>\n",
              "    <tr>\n",
              "      <th>3</th>\n",
              "      <td>1</td>\n",
              "      <td>10792</td>\n",
              "      <td>10581</td>\n",
              "    </tr>\n",
              "    <tr>\n",
              "      <th>4</th>\n",
              "      <td>1</td>\n",
              "      <td>10792</td>\n",
              "      <td>14576</td>\n",
              "    </tr>\n",
              "  </tbody>\n",
              "</table>\n",
              "</div>"
            ],
            "text/plain": [
              "   PASSENGERS  ORIGIN_AIRPORT_ID  DEST_AIRPORT_ID\n",
              "0           1              12264            10397\n",
              "1           1              13541            12197\n",
              "2           1              10599            12206\n",
              "3           1              10792            10581\n",
              "4           1              10792            14576"
            ]
          },
          "metadata": {
            "tags": []
          },
          "execution_count": 6
        }
      ]
    },
    {
      "cell_type": "code",
      "metadata": {
        "id": "E5bM__xfqRTJ",
        "colab_type": "code",
        "outputId": "fcad849e-6ead-4f39-9d2c-ff6071ee1443",
        "colab": {
          "base_uri": "https://localhost:8080/",
          "height": 86
        }
      },
      "source": [
        "fdf.dtypes"
      ],
      "execution_count": 0,
      "outputs": [
        {
          "output_type": "execute_result",
          "data": {
            "text/plain": [
              "PASSENGERS           int64\n",
              "ORIGIN_AIRPORT_ID    int64\n",
              "DEST_AIRPORT_ID      int64\n",
              "dtype: object"
            ]
          },
          "metadata": {
            "tags": []
          },
          "execution_count": 7
        }
      ]
    },
    {
      "cell_type": "markdown",
      "metadata": {
        "id": "288hju97qRTO",
        "colab_type": "text"
      },
      "source": [
        "### Prep\n",
        "Since we'll be using cuGraph, which uses int32, and the above dtypes are int64, we recast each Series:"
      ]
    },
    {
      "cell_type": "code",
      "metadata": {
        "id": "mZWzXNSMqRTP",
        "colab_type": "code",
        "colab": {}
      },
      "source": [
        "fdf['ORIGIN_AIRPORT_ID'] = fdf['ORIGIN_AIRPORT_ID'].astype(np.int32)\n",
        "fdf['DEST_AIRPORT_ID'] = fdf['DEST_AIRPORT_ID'].astype(np.int32)\n",
        "fdf['PASSENGERS'] = fdf['PASSENGERS'].astype(np.int32)"
      ],
      "execution_count": 0,
      "outputs": []
    },
    {
      "cell_type": "code",
      "metadata": {
        "id": "NNHbh4Q5qRTR",
        "colab_type": "code",
        "outputId": "ff7b3da4-699e-445e-8dd1-f7d41aa0d158",
        "colab": {
          "base_uri": "https://localhost:8080/",
          "height": 86
        }
      },
      "source": [
        "fdf.dtypes"
      ],
      "execution_count": 0,
      "outputs": [
        {
          "output_type": "execute_result",
          "data": {
            "text/plain": [
              "PASSENGERS           int32\n",
              "ORIGIN_AIRPORT_ID    int32\n",
              "DEST_AIRPORT_ID      int32\n",
              "dtype: object"
            ]
          },
          "metadata": {
            "tags": []
          },
          "execution_count": 9
        }
      ]
    },
    {
      "cell_type": "markdown",
      "metadata": {
        "id": "ejIhNOmNqRTT",
        "colab_type": "text"
      },
      "source": [
        "Okay, better!  Now let's make some some graphs.  Why?  Cause graphs are fun and informative!"
      ]
    },
    {
      "cell_type": "markdown",
      "metadata": {
        "id": "HD-dpnzyqRTU",
        "colab_type": "text"
      },
      "source": [
        "## Graphs\n",
        "Recall that we're going to ask these questions of our data:\n",
        "1. Which airport is the most trafficked airport in our dataset?\n",
        "1. What are the max number of plane rides (hops) do you need to take to get from the most trafficked airport to get to any other airport in our dataset?\n",
        "1. How many hops do you need to take to get from the most trafficked airport to one of the least trafficked airport?\n",
        "1. How far is that distance really?\n",
        "1. What is the topology of our airport network, based on our dataset and distance from one another?\n",
        "\n",
        "**Let's get started!**"
      ]
    },
    {
      "cell_type": "markdown",
      "metadata": {
        "id": "hzpl4bluqRTV",
        "colab_type": "text"
      },
      "source": [
        "### Build the foundations"
      ]
    },
    {
      "cell_type": "code",
      "metadata": {
        "id": "PyXlBeDUqRTW",
        "colab_type": "code",
        "outputId": "8e2f77a3-0bc7-4a19-9124-53c59cddb570",
        "colab": {
          "base_uri": "https://localhost:8080/",
          "height": 51
        }
      },
      "source": [
        "G = cugraph.Graph()\n",
        "G.add_edge_list(fdf[\"ORIGIN_AIRPORT_ID\"], fdf[\"DEST_AIRPORT_ID\"])"
      ],
      "execution_count": 0,
      "outputs": [
        {
          "output_type": "stream",
          "text": [
            "/usr/local/lib/python3.6/site-packages/cugraph/structure/graph.py:157: UserWarning: add_edge_list will be deprecated in next release. Use from_cudf_edgelist instead\n",
            "  Use from_cudf_edgelist instead')\n"
          ],
          "name": "stderr"
        }
      ]
    },
    {
      "cell_type": "code",
      "metadata": {
        "id": "PRzY0zD-qRTY",
        "colab_type": "code",
        "outputId": "bbbe9177-5bf9-4f2f-f700-a3fd9a21210e",
        "colab": {
          "base_uri": "https://localhost:8080/",
          "height": 225
        }
      },
      "source": [
        "# cudf uses the same formatting controls as Pandas!\n",
        "pd.options.display.max_rows = 10\n",
        "\n",
        "fdf[\"ORIGIN_AIRPORT_ID\"].value_counts()"
      ],
      "execution_count": 0,
      "outputs": [
        {
          "output_type": "execute_result",
          "data": {
            "text/plain": [
              "13930    12020\n",
              "11292    10297\n",
              "10397     9137\n",
              "13487     6848\n",
              "11433     6715\n",
              "         ...  \n",
              "16816        1\n",
              "16823        1\n",
              "16838        1\n",
              "16839        1\n",
              "16840        1\n",
              "Name: ORIGIN_AIRPORT_ID, Length: 1147, dtype: int32"
            ]
          },
          "metadata": {
            "tags": []
          },
          "execution_count": 11
        }
      ]
    },
    {
      "cell_type": "code",
      "metadata": {
        "id": "qO2JdWnOqRTc",
        "colab_type": "code",
        "outputId": "b6d6673c-9007-4734-d5e8-e85093abfc38",
        "colab": {
          "base_uri": "https://localhost:8080/",
          "height": 225
        }
      },
      "source": [
        "fdf[\"DEST_AIRPORT_ID\"].value_counts()"
      ],
      "execution_count": 0,
      "outputs": [
        {
          "output_type": "execute_result",
          "data": {
            "text/plain": [
              "13930    12082\n",
              "11292    10425\n",
              "10397     9179\n",
              "13487     6913\n",
              "11433     6651\n",
              "         ...  \n",
              "16819        1\n",
              "16820        1\n",
              "16838        1\n",
              "16839        1\n",
              "16840        1\n",
              "Name: DEST_AIRPORT_ID, Length: 1181, dtype: int32"
            ]
          },
          "metadata": {
            "tags": []
          },
          "execution_count": 12
        }
      ]
    },
    {
      "cell_type": "markdown",
      "metadata": {
        "id": "jZ54jU_CqRTe",
        "colab_type": "text"
      },
      "source": [
        "### Question 1: Which airport is the most trafficked airport in our dataset?\n",
        "\n",
        "The easiest way to find out which airport is the most trafficked is the same way Google does it for websites: Pagerank!"
      ]
    },
    {
      "cell_type": "code",
      "metadata": {
        "id": "yu4SB0VMqRTf",
        "colab_type": "code",
        "colab": {}
      },
      "source": [
        "df_page = cugraph.pagerank(G)"
      ],
      "execution_count": 0,
      "outputs": []
    },
    {
      "cell_type": "markdown",
      "metadata": {
        "id": "BVQsDbKpqRTi",
        "colab_type": "text"
      },
      "source": [
        "So now we have a graph, `df_page`.  Great!  What does it look like?"
      ]
    },
    {
      "cell_type": "code",
      "metadata": {
        "id": "l9VMliDmqRTj",
        "colab_type": "code",
        "outputId": "e93794d0-4010-4f51-be69-112fd9cfe3c8",
        "colab": {
          "base_uri": "https://localhost:8080/",
          "height": 202
        }
      },
      "source": [
        "df_page.head()"
      ],
      "execution_count": 0,
      "outputs": [
        {
          "output_type": "execute_result",
          "data": {
            "text/html": [
              "<div>\n",
              "<style scoped>\n",
              "    .dataframe tbody tr th:only-of-type {\n",
              "        vertical-align: middle;\n",
              "    }\n",
              "\n",
              "    .dataframe tbody tr th {\n",
              "        vertical-align: top;\n",
              "    }\n",
              "\n",
              "    .dataframe thead th {\n",
              "        text-align: right;\n",
              "    }\n",
              "</style>\n",
              "<table border=\"1\" class=\"dataframe\">\n",
              "  <thead>\n",
              "    <tr style=\"text-align: right;\">\n",
              "      <th></th>\n",
              "      <th>vertex</th>\n",
              "      <th>pagerank</th>\n",
              "    </tr>\n",
              "  </thead>\n",
              "  <tbody>\n",
              "    <tr>\n",
              "      <th>0</th>\n",
              "      <td>0</td>\n",
              "      <td>0.000042</td>\n",
              "    </tr>\n",
              "    <tr>\n",
              "      <th>1</th>\n",
              "      <td>1</td>\n",
              "      <td>0.000042</td>\n",
              "    </tr>\n",
              "    <tr>\n",
              "      <th>2</th>\n",
              "      <td>2</td>\n",
              "      <td>0.000042</td>\n",
              "    </tr>\n",
              "    <tr>\n",
              "      <th>3</th>\n",
              "      <td>3</td>\n",
              "      <td>0.000042</td>\n",
              "    </tr>\n",
              "    <tr>\n",
              "      <th>4</th>\n",
              "      <td>4</td>\n",
              "      <td>0.000042</td>\n",
              "    </tr>\n",
              "  </tbody>\n",
              "</table>\n",
              "</div>"
            ],
            "text/plain": [
              "   vertex  pagerank\n",
              "0       0  0.000042\n",
              "1       1  0.000042\n",
              "2       2  0.000042\n",
              "3       3  0.000042\n",
              "4       4  0.000042"
            ]
          },
          "metadata": {
            "tags": []
          },
          "execution_count": 14
        }
      ]
    },
    {
      "cell_type": "markdown",
      "metadata": {
        "id": "Fsf9s41FqRTl",
        "colab_type": "text"
      },
      "source": [
        "Pagerank isn't ordered by rank, but by vertex number, but it is easy to find the max rank and sort the orders.  Let's get our max and the top 10 airports in our dataset"
      ]
    },
    {
      "cell_type": "code",
      "metadata": {
        "id": "uoqwi20eqRTm",
        "colab_type": "code",
        "outputId": "4f90c9da-77aa-47cc-e8f8-517faa0bd3ff",
        "colab": {
          "base_uri": "https://localhost:8080/",
          "height": 34
        }
      },
      "source": [
        "pr_max = df_page['pagerank'].max()\n",
        "print(pr_max)"
      ],
      "execution_count": 0,
      "outputs": [
        {
          "output_type": "stream",
          "text": [
            "0.0033526928164064884\n"
          ],
          "name": "stdout"
        }
      ]
    },
    {
      "cell_type": "code",
      "metadata": {
        "id": "gNRWBynAqRTo",
        "colab_type": "code",
        "outputId": "24ceacfd-1117-48fe-bb60-724b2d86a0a7",
        "colab": {
          "base_uri": "https://localhost:8080/",
          "height": 355
        }
      },
      "source": [
        "sort_pr = df_page.sort_values('pagerank', ascending=True) # Just for fun, we're looking to see which airports have the least traffic\n",
        "sort_pr.head(10)"
      ],
      "execution_count": 0,
      "outputs": [
        {
          "output_type": "execute_result",
          "data": {
            "text/html": [
              "<div>\n",
              "<style scoped>\n",
              "    .dataframe tbody tr th:only-of-type {\n",
              "        vertical-align: middle;\n",
              "    }\n",
              "\n",
              "    .dataframe tbody tr th {\n",
              "        vertical-align: top;\n",
              "    }\n",
              "\n",
              "    .dataframe thead th {\n",
              "        text-align: right;\n",
              "    }\n",
              "</style>\n",
              "<table border=\"1\" class=\"dataframe\">\n",
              "  <thead>\n",
              "    <tr style=\"text-align: right;\">\n",
              "      <th></th>\n",
              "      <th>vertex</th>\n",
              "      <th>pagerank</th>\n",
              "    </tr>\n",
              "  </thead>\n",
              "  <tbody>\n",
              "    <tr>\n",
              "      <th>0</th>\n",
              "      <td>0</td>\n",
              "      <td>0.000042</td>\n",
              "    </tr>\n",
              "    <tr>\n",
              "      <th>1</th>\n",
              "      <td>1</td>\n",
              "      <td>0.000042</td>\n",
              "    </tr>\n",
              "    <tr>\n",
              "      <th>2</th>\n",
              "      <td>2</td>\n",
              "      <td>0.000042</td>\n",
              "    </tr>\n",
              "    <tr>\n",
              "      <th>3</th>\n",
              "      <td>3</td>\n",
              "      <td>0.000042</td>\n",
              "    </tr>\n",
              "    <tr>\n",
              "      <th>4</th>\n",
              "      <td>4</td>\n",
              "      <td>0.000042</td>\n",
              "    </tr>\n",
              "    <tr>\n",
              "      <th>5</th>\n",
              "      <td>5</td>\n",
              "      <td>0.000042</td>\n",
              "    </tr>\n",
              "    <tr>\n",
              "      <th>6</th>\n",
              "      <td>6</td>\n",
              "      <td>0.000042</td>\n",
              "    </tr>\n",
              "    <tr>\n",
              "      <th>7</th>\n",
              "      <td>7</td>\n",
              "      <td>0.000042</td>\n",
              "    </tr>\n",
              "    <tr>\n",
              "      <th>8</th>\n",
              "      <td>8</td>\n",
              "      <td>0.000042</td>\n",
              "    </tr>\n",
              "    <tr>\n",
              "      <th>9</th>\n",
              "      <td>9</td>\n",
              "      <td>0.000042</td>\n",
              "    </tr>\n",
              "  </tbody>\n",
              "</table>\n",
              "</div>"
            ],
            "text/plain": [
              "   vertex  pagerank\n",
              "0       0  0.000042\n",
              "1       1  0.000042\n",
              "2       2  0.000042\n",
              "3       3  0.000042\n",
              "4       4  0.000042\n",
              "5       5  0.000042\n",
              "6       6  0.000042\n",
              "7       7  0.000042\n",
              "8       8  0.000042\n",
              "9       9  0.000042"
            ]
          },
          "metadata": {
            "tags": []
          },
          "execution_count": 16
        }
      ]
    },
    {
      "cell_type": "code",
      "metadata": {
        "id": "pkMYrnKLqRTq",
        "colab_type": "code",
        "outputId": "b6ae5333-114e-44bd-b9c4-ea40fb9e6a9a",
        "colab": {
          "base_uri": "https://localhost:8080/",
          "height": 355
        }
      },
      "source": [
        "sort_pr = df_page.sort_values('pagerank', ascending=False)\n",
        "sort_pr.head(10)"
      ],
      "execution_count": 0,
      "outputs": [
        {
          "output_type": "execute_result",
          "data": {
            "text/html": [
              "<div>\n",
              "<style scoped>\n",
              "    .dataframe tbody tr th:only-of-type {\n",
              "        vertical-align: middle;\n",
              "    }\n",
              "\n",
              "    .dataframe tbody tr th {\n",
              "        vertical-align: top;\n",
              "    }\n",
              "\n",
              "    .dataframe thead th {\n",
              "        text-align: right;\n",
              "    }\n",
              "</style>\n",
              "<table border=\"1\" class=\"dataframe\">\n",
              "  <thead>\n",
              "    <tr style=\"text-align: right;\">\n",
              "      <th></th>\n",
              "      <th>vertex</th>\n",
              "      <th>pagerank</th>\n",
              "    </tr>\n",
              "  </thead>\n",
              "  <tbody>\n",
              "    <tr>\n",
              "      <th>12197</th>\n",
              "      <td>12197</td>\n",
              "      <td>0.003353</td>\n",
              "    </tr>\n",
              "    <tr>\n",
              "      <th>15167</th>\n",
              "      <td>15167</td>\n",
              "      <td>0.003242</td>\n",
              "    </tr>\n",
              "    <tr>\n",
              "      <th>10299</th>\n",
              "      <td>10299</td>\n",
              "      <td>0.002682</td>\n",
              "    </tr>\n",
              "    <tr>\n",
              "      <th>11292</th>\n",
              "      <td>11292</td>\n",
              "      <td>0.002270</td>\n",
              "    </tr>\n",
              "    <tr>\n",
              "      <th>11630</th>\n",
              "      <td>11630</td>\n",
              "      <td>0.002250</td>\n",
              "    </tr>\n",
              "    <tr>\n",
              "      <th>13930</th>\n",
              "      <td>13930</td>\n",
              "      <td>0.002179</td>\n",
              "    </tr>\n",
              "    <tr>\n",
              "      <th>11298</th>\n",
              "      <td>11298</td>\n",
              "      <td>0.001972</td>\n",
              "    </tr>\n",
              "    <tr>\n",
              "      <th>10693</th>\n",
              "      <td>10693</td>\n",
              "      <td>0.001860</td>\n",
              "    </tr>\n",
              "    <tr>\n",
              "      <th>10397</th>\n",
              "      <td>10397</td>\n",
              "      <td>0.001860</td>\n",
              "    </tr>\n",
              "    <tr>\n",
              "      <th>13487</th>\n",
              "      <td>13487</td>\n",
              "      <td>0.001843</td>\n",
              "    </tr>\n",
              "  </tbody>\n",
              "</table>\n",
              "</div>"
            ],
            "text/plain": [
              "       vertex  pagerank\n",
              "12197   12197  0.003353\n",
              "15167   15167  0.003242\n",
              "10299   10299  0.002682\n",
              "11292   11292  0.002270\n",
              "11630   11630  0.002250\n",
              "13930   13930  0.002179\n",
              "11298   11298  0.001972\n",
              "10693   10693  0.001860\n",
              "10397   10397  0.001860\n",
              "13487   13487  0.001843"
            ]
          },
          "metadata": {
            "tags": []
          },
          "execution_count": 17
        }
      ]
    },
    {
      "cell_type": "markdown",
      "metadata": {
        "id": "kw9cGohhqRTt",
        "colab_type": "text"
      },
      "source": [
        "Those are the top 10 trafficked airports.  While it was easy to see from the origin and destination airports counts that 13930 would be the most trafficked, the order of the others in the list required a bit more work.  It is also interesting that no single airport accounts for 1% of the total flights."
      ]
    },
    {
      "cell_type": "markdown",
      "metadata": {
        "id": "GnljGgYcqRTw",
        "colab_type": "text"
      },
      "source": [
        "### Question 2: max number of plane rides (hops)?\n",
        "\n",
        "Let's do a breadth first search (BFS) on the airports to fly out of and see how many hops it takes to get from popular airport, 13930, to an isolated one.  We'll do the BFS from the most poular airport to a randomly chosen one."
      ]
    },
    {
      "cell_type": "code",
      "metadata": {
        "id": "SPUIspirqRTw",
        "colab_type": "code",
        "colab": {}
      },
      "source": [
        "df = cugraph.bfs(G,13930)"
      ],
      "execution_count": 0,
      "outputs": []
    },
    {
      "cell_type": "code",
      "metadata": {
        "id": "XHGJGUd1qRT0",
        "colab_type": "code",
        "outputId": "cbee7422-5018-4d0a-a427-a73fb83a77b4",
        "colab": {
          "base_uri": "https://localhost:8080/",
          "height": 86
        }
      },
      "source": [
        "df.count()"
      ],
      "execution_count": 0,
      "outputs": [
        {
          "output_type": "execute_result",
          "data": {
            "text/plain": [
              "vertex         16841\n",
              "distance       16841\n",
              "predecessor    16841\n",
              "dtype: int64"
            ]
          },
          "metadata": {
            "tags": []
          },
          "execution_count": 19
        }
      ]
    },
    {
      "cell_type": "code",
      "metadata": {
        "id": "rHDPWqLTqRT3",
        "colab_type": "code",
        "outputId": "d3b5345b-ce3f-4b4f-90c7-c9d86e0c5ca5",
        "colab": {
          "base_uri": "https://localhost:8080/",
          "height": 225
        }
      },
      "source": [
        "df['predecessor'].value_counts()"
      ],
      "execution_count": 0,
      "outputs": [
        {
          "output_type": "execute_result",
          "data": {
            "text/plain": [
              "-1        15631\n",
              " 13930      236\n",
              " 10299       80\n",
              " 11630       75\n",
              " 12197       64\n",
              "          ...  \n",
              " 15579        1\n",
              " 15779        1\n",
              " 15855        1\n",
              " 15919        1\n",
              " 16101        1\n",
              "Name: predecessor, Length: 232, dtype: int32"
            ]
          },
          "metadata": {
            "tags": []
          },
          "execution_count": 20
        }
      ]
    },
    {
      "cell_type": "markdown",
      "metadata": {
        "id": "D1FFCVj8qRT5",
        "colab_type": "text"
      },
      "source": [
        "hmmm...what's `-1`?  Why does it's value so high?  Well, maybe it doesn't matter...let's get the max"
      ]
    },
    {
      "cell_type": "code",
      "metadata": {
        "id": "r_XNiC53qRT5",
        "colab_type": "code",
        "outputId": "45400d5f-051c-450f-d435-8a438891b095",
        "colab": {
          "base_uri": "https://localhost:8080/",
          "height": 34
        }
      },
      "source": [
        "df[\"distance\"].max()"
      ],
      "execution_count": 0,
      "outputs": [
        {
          "output_type": "execute_result",
          "data": {
            "text/plain": [
              "2147483647"
            ]
          },
          "metadata": {
            "tags": []
          },
          "execution_count": 21
        }
      ]
    },
    {
      "cell_type": "markdown",
      "metadata": {
        "id": "ykL03traqRT8",
        "colab_type": "text"
      },
      "source": [
        "**Whoa!**  That distance value is unexpected...but really not.  In the BFS demo, Brad told us that this occurs because the isolated vertex, 0, is unreachable.  Whenever a graph contains disjointed components, the distance to the unconnected vertices will always be max_int.  He also showed us how to fix it by dropping all insanely large distances.  We'll keep `df` untouched, in case we need it again, and make a second dataframe `df2`"
      ]
    },
    {
      "cell_type": "code",
      "metadata": {
        "id": "eCcaz1CkqRT8",
        "colab_type": "code",
        "colab": {}
      },
      "source": [
        "# drop all large distances \n",
        "exp=\"distance < 100\"\n",
        "df2 = df.query(exp)"
      ],
      "execution_count": 0,
      "outputs": []
    },
    {
      "cell_type": "code",
      "metadata": {
        "id": "clhAFkYpqRT_",
        "colab_type": "code",
        "outputId": "88d11e58-2c03-4ef7-ea38-ccccd0294dfc",
        "colab": {
          "base_uri": "https://localhost:8080/",
          "height": 225
        }
      },
      "source": [
        "df2['predecessor'].value_counts()"
      ],
      "execution_count": 0,
      "outputs": [
        {
          "output_type": "execute_result",
          "data": {
            "text/plain": [
              "13930    236\n",
              "10299     80\n",
              "11630     75\n",
              "12197     64\n",
              "11292     43\n",
              "        ... \n",
              "15579      1\n",
              "15779      1\n",
              "15855      1\n",
              "15919      1\n",
              "16101      1\n",
              "Name: predecessor, Length: 232, dtype: int32"
            ]
          },
          "metadata": {
            "tags": []
          },
          "execution_count": 23
        }
      ]
    },
    {
      "cell_type": "markdown",
      "metadata": {
        "id": "JAPETRHxqRUB",
        "colab_type": "text"
      },
      "source": [
        "That looks better!  A positive number has the most, and it's of course, airport 13930.  Now, let's see what the real graph distance is."
      ]
    },
    {
      "cell_type": "code",
      "metadata": {
        "id": "3RFEqWn_qRUB",
        "colab_type": "code",
        "outputId": "3c1d717f-5773-4a79-d2d0-130741700c0a",
        "colab": {
          "base_uri": "https://localhost:8080/",
          "height": 34
        }
      },
      "source": [
        "df2[\"distance\"].max()"
      ],
      "execution_count": 0,
      "outputs": [
        {
          "output_type": "execute_result",
          "data": {
            "text/plain": [
              "5"
            ]
          },
          "metadata": {
            "tags": []
          },
          "execution_count": 24
        }
      ]
    },
    {
      "cell_type": "markdown",
      "metadata": {
        "id": "2oz7-bAPqRUD",
        "colab_type": "text"
      },
      "source": [
        "Okay great!  We know that no matter what, in the US, you're no more than 5 flights away from any other airport.  \n",
        "\n",
        "### Question 3: How many hops do you need to take to get from the most trafficked airport to one of the least trafficed airports\n",
        "Let's find out how many flights it takes to get us to a remote airport.  Let's pick one that has 1 flight from it.  I'm choosing `16498`, but you can change that value to another airport.  Also, there's a helper function to help make it a nicer print."
      ]
    },
    {
      "cell_type": "code",
      "metadata": {
        "id": "DrYaqYLBqRUE",
        "colab_type": "code",
        "colab": {}
      },
      "source": [
        "end_airport = 16498 # change to any other airport"
      ],
      "execution_count": 0,
      "outputs": []
    },
    {
      "cell_type": "code",
      "metadata": {
        "id": "-97OlGWiqRUF",
        "colab_type": "code",
        "colab": {}
      },
      "source": [
        "def print_path(df, id):\n",
        "    \n",
        "    # Use the BFS predecessors and distance to trace the path \n",
        "    # from vertex id back to the starting vertex ( vertex 1 in this example)\n",
        "    dist = df['distance'][id]\n",
        "    lastVert = id\n",
        "    route=[]\n",
        "    route.append(lastVert)\n",
        "    for i in range(dist):\n",
        "        nextVert = df['predecessor'][lastVert]\n",
        "        route.append(nextVert)\n",
        "        d = df['distance'][lastVert]\n",
        "        print(\"Airport \" + str(lastVert) + \" was reached from airport \" + str(nextVert) + \n",
        "        \" where the graph distance to Airport 13930 was \" + str(d) )\n",
        "        lastVert = nextVert\n",
        "    return route"
      ],
      "execution_count": 0,
      "outputs": []
    },
    {
      "cell_type": "code",
      "metadata": {
        "id": "YVccj10PqRUH",
        "colab_type": "code",
        "outputId": "c8a0eb24-c8bf-49d0-a5c3-b596607bcc3e",
        "colab": {
          "base_uri": "https://localhost:8080/",
          "height": 51
        }
      },
      "source": [
        "route = print_path(df, end_airport)"
      ],
      "execution_count": 0,
      "outputs": [
        {
          "output_type": "stream",
          "text": [
            "Airport 16498 was reached from airport 12478 where the graph distance to Airport 13930 was 2\n",
            "Airport 12478 was reached from airport 13930 where the graph distance to Airport 13930 was 1\n"
          ],
          "name": "stdout"
        }
      ]
    },
    {
      "cell_type": "code",
      "metadata": {
        "id": "ivTI9XwFqRUJ",
        "colab_type": "code",
        "outputId": "417f98f4-d299-4d3a-bf2c-3ba1d931c019",
        "colab": {
          "base_uri": "https://localhost:8080/",
          "height": 86
        }
      },
      "source": [
        "airports = adf.loc[adf.AIRPORT_ID.isin(route)]\n",
        "print(airports)"
      ],
      "execution_count": 0,
      "outputs": [
        {
          "output_type": "stream",
          "text": [
            "      AIRPORT_ID   LATITUDE  LONGITUDE\n",
            "2381       12478  40.638611 -73.776944\n",
            "3770       13930  41.978056 -87.906111\n",
            "6159       16498  42.913889 -76.440833\n"
          ],
          "name": "stdout"
        }
      ]
    },
    {
      "cell_type": "markdown",
      "metadata": {
        "id": "BEMyRthOqRUN",
        "colab_type": "text"
      },
      "source": [
        "If you used my number, it would take 2 flights So now we know which airports you would connect to between those two airports.  But that is the graph distance.  What about the real distances?  "
      ]
    },
    {
      "cell_type": "markdown",
      "metadata": {
        "id": "wKevq9fNqRUO",
        "colab_type": "text"
      },
      "source": [
        "### Question 4:  How far is that distance really?\n",
        "Well, for that, we need to bring in our other dataset, `adf`, which is a list of the airport's latitude and longitudes, as well as the GPU accelerated `cuSpatial` library to compute the Haversine distances (distances on the surface of the globe [sphere] instead of a straight line) "
      ]
    },
    {
      "cell_type": "code",
      "metadata": {
        "id": "HMc37HrVqRUP",
        "colab_type": "code",
        "outputId": "53b3c8d2-214c-4cdd-a5df-ac1d6ade3f53",
        "colab": {
          "base_uri": "https://localhost:8080/",
          "height": 202
        }
      },
      "source": [
        "adf.head()"
      ],
      "execution_count": 0,
      "outputs": [
        {
          "output_type": "execute_result",
          "data": {
            "text/html": [
              "<div>\n",
              "<style scoped>\n",
              "    .dataframe tbody tr th:only-of-type {\n",
              "        vertical-align: middle;\n",
              "    }\n",
              "\n",
              "    .dataframe tbody tr th {\n",
              "        vertical-align: top;\n",
              "    }\n",
              "\n",
              "    .dataframe thead th {\n",
              "        text-align: right;\n",
              "    }\n",
              "</style>\n",
              "<table border=\"1\" class=\"dataframe\">\n",
              "  <thead>\n",
              "    <tr style=\"text-align: right;\">\n",
              "      <th></th>\n",
              "      <th>AIRPORT_ID</th>\n",
              "      <th>LATITUDE</th>\n",
              "      <th>LONGITUDE</th>\n",
              "    </tr>\n",
              "  </thead>\n",
              "  <tbody>\n",
              "    <tr>\n",
              "      <th>0</th>\n",
              "      <td>10001</td>\n",
              "      <td>58.109444</td>\n",
              "      <td>-152.906667</td>\n",
              "    </tr>\n",
              "    <tr>\n",
              "      <th>1</th>\n",
              "      <td>10003</td>\n",
              "      <td>65.548056</td>\n",
              "      <td>-161.071667</td>\n",
              "    </tr>\n",
              "    <tr>\n",
              "      <th>2</th>\n",
              "      <td>10004</td>\n",
              "      <td>68.083333</td>\n",
              "      <td>-163.166667</td>\n",
              "    </tr>\n",
              "    <tr>\n",
              "      <th>3</th>\n",
              "      <td>10005</td>\n",
              "      <td>67.570000</td>\n",
              "      <td>-148.183889</td>\n",
              "    </tr>\n",
              "    <tr>\n",
              "      <th>4</th>\n",
              "      <td>10006</td>\n",
              "      <td>57.745278</td>\n",
              "      <td>-152.882778</td>\n",
              "    </tr>\n",
              "  </tbody>\n",
              "</table>\n",
              "</div>"
            ],
            "text/plain": [
              "   AIRPORT_ID   LATITUDE   LONGITUDE\n",
              "0       10001  58.109444 -152.906667\n",
              "1       10003  65.548056 -161.071667\n",
              "2       10004  68.083333 -163.166667\n",
              "3       10005  67.570000 -148.183889\n",
              "4       10006  57.745278 -152.882778"
            ]
          },
          "metadata": {
            "tags": []
          },
          "execution_count": 29
        }
      ]
    },
    {
      "cell_type": "markdown",
      "metadata": {
        "id": "OXd0PtNEqRUR",
        "colab_type": "text"
      },
      "source": [
        "Let's make a new function that calculates the haversine distance of all the airports in our flights at once.  This is a great time to use merge().  We'll do 2 merges, first on `ORIGIN_AIRPORT_ID` and then on `DEST_AIRPORT_ID`. To do the merge, we'll need to typecast the queries on our original 2 dataframes."
      ]
    },
    {
      "cell_type": "code",
      "metadata": {
        "id": "hQIM4FkkqRUT",
        "colab_type": "code",
        "outputId": "ca6bf921-9506-4f61-e994-1b1ffa87e383",
        "colab": {
          "base_uri": "https://localhost:8080/",
          "height": 202
        }
      },
      "source": [
        "fdf['AIRPORT_ID'] = fdf['ORIGIN_AIRPORT_ID'].astype(np.int64) # create a common key with origin airport\n",
        "hdf = fdf.merge(adf, on=['AIRPORT_ID'], how='left')\n",
        "hdf.rename(columns = {'LATITUDE': 'LATITUDE_O', 'LONGITUDE': 'LONGITUDE_O'}, inplace=True) # Origin lat and long\n",
        "hdf['AIRPORT_ID'] = hdf['DEST_AIRPORT_ID'].astype(np.int64) # recreate a common key with destination airport\n",
        "hdf = hdf.merge(adf, on=['AIRPORT_ID'], how='left')\n",
        "hdf.rename(columns = {'LATITUDE': 'LATITUDE_D', 'LONGITUDE': 'LONGITUDE_D'}, inplace=True) # Origin lat and long\n",
        "hdf.head()"
      ],
      "execution_count": 0,
      "outputs": [
        {
          "output_type": "execute_result",
          "data": {
            "text/html": [
              "<div>\n",
              "<style scoped>\n",
              "    .dataframe tbody tr th:only-of-type {\n",
              "        vertical-align: middle;\n",
              "    }\n",
              "\n",
              "    .dataframe tbody tr th {\n",
              "        vertical-align: top;\n",
              "    }\n",
              "\n",
              "    .dataframe thead th {\n",
              "        text-align: right;\n",
              "    }\n",
              "</style>\n",
              "<table border=\"1\" class=\"dataframe\">\n",
              "  <thead>\n",
              "    <tr style=\"text-align: right;\">\n",
              "      <th></th>\n",
              "      <th>PASSENGERS</th>\n",
              "      <th>ORIGIN_AIRPORT_ID</th>\n",
              "      <th>DEST_AIRPORT_ID</th>\n",
              "      <th>AIRPORT_ID</th>\n",
              "      <th>LATITUDE_O</th>\n",
              "      <th>LONGITUDE_O</th>\n",
              "      <th>LATITUDE_D</th>\n",
              "      <th>LONGITUDE_D</th>\n",
              "    </tr>\n",
              "  </thead>\n",
              "  <tbody>\n",
              "    <tr>\n",
              "      <th>0</th>\n",
              "      <td>6</td>\n",
              "      <td>15016</td>\n",
              "      <td>15454</td>\n",
              "      <td>15454</td>\n",
              "      <td>38.747222</td>\n",
              "      <td>-90.364444</td>\n",
              "      <td>39.944167</td>\n",
              "      <td>-91.197222</td>\n",
              "    </tr>\n",
              "    <tr>\n",
              "      <th>1</th>\n",
              "      <td>6</td>\n",
              "      <td>10800</td>\n",
              "      <td>13796</td>\n",
              "      <td>13796</td>\n",
              "      <td>34.200000</td>\n",
              "      <td>-118.357778</td>\n",
              "      <td>37.721389</td>\n",
              "      <td>-122.220833</td>\n",
              "    </tr>\n",
              "    <tr>\n",
              "      <th>2</th>\n",
              "      <td>6</td>\n",
              "      <td>10327</td>\n",
              "      <td>12892</td>\n",
              "      <td>12892</td>\n",
              "      <td>38.212222</td>\n",
              "      <td>-122.280000</td>\n",
              "      <td>33.942500</td>\n",
              "      <td>-118.408056</td>\n",
              "    </tr>\n",
              "    <tr>\n",
              "      <th>3</th>\n",
              "      <td>6</td>\n",
              "      <td>12211</td>\n",
              "      <td>14057</td>\n",
              "      <td>14057</td>\n",
              "      <td>35.972778</td>\n",
              "      <td>-115.134444</td>\n",
              "      <td>45.589167</td>\n",
              "      <td>-122.595000</td>\n",
              "    </tr>\n",
              "    <tr>\n",
              "      <th>4</th>\n",
              "      <td>6</td>\n",
              "      <td>13487</td>\n",
              "      <td>12451</td>\n",
              "      <td>12451</td>\n",
              "      <td>44.886111</td>\n",
              "      <td>-93.217778</td>\n",
              "      <td>30.484722</td>\n",
              "      <td>-81.687778</td>\n",
              "    </tr>\n",
              "  </tbody>\n",
              "</table>\n",
              "</div>"
            ],
            "text/plain": [
              "   PASSENGERS  ORIGIN_AIRPORT_ID  ...  LATITUDE_D  LONGITUDE_D\n",
              "0           6              15016  ...   39.944167   -91.197222\n",
              "1           6              10800  ...   37.721389  -122.220833\n",
              "2           6              10327  ...   33.942500  -118.408056\n",
              "3           6              12211  ...   45.589167  -122.595000\n",
              "4           6              13487  ...   30.484722   -81.687778\n",
              "\n",
              "[5 rows x 8 columns]"
            ]
          },
          "metadata": {
            "tags": []
          },
          "execution_count": 30
        }
      ]
    },
    {
      "cell_type": "code",
      "metadata": {
        "id": "Dm5z3lfkqRUV",
        "colab_type": "code",
        "outputId": "362a1980-c429-4707-c542-e23835730e62",
        "colab": {
          "base_uri": "https://localhost:8080/",
          "height": 355
        }
      },
      "source": [
        "x1 = hdf[\"LONGITUDE_O\"]\n",
        "y1 = hdf[\"LATITUDE_O\"]\n",
        "x2 = hdf[\"LONGITUDE_D\"]\n",
        "y2 = hdf[\"LATITUDE_D\"]\n",
        "\n",
        "hdf['H-distance'] = cuspatial.haversine_distance(x1, y1, x2, y2)\n",
        "hdf.head(10)"
      ],
      "execution_count": 0,
      "outputs": [
        {
          "output_type": "execute_result",
          "data": {
            "text/html": [
              "<div>\n",
              "<style scoped>\n",
              "    .dataframe tbody tr th:only-of-type {\n",
              "        vertical-align: middle;\n",
              "    }\n",
              "\n",
              "    .dataframe tbody tr th {\n",
              "        vertical-align: top;\n",
              "    }\n",
              "\n",
              "    .dataframe thead th {\n",
              "        text-align: right;\n",
              "    }\n",
              "</style>\n",
              "<table border=\"1\" class=\"dataframe\">\n",
              "  <thead>\n",
              "    <tr style=\"text-align: right;\">\n",
              "      <th></th>\n",
              "      <th>PASSENGERS</th>\n",
              "      <th>ORIGIN_AIRPORT_ID</th>\n",
              "      <th>DEST_AIRPORT_ID</th>\n",
              "      <th>AIRPORT_ID</th>\n",
              "      <th>LATITUDE_O</th>\n",
              "      <th>LONGITUDE_O</th>\n",
              "      <th>LATITUDE_D</th>\n",
              "      <th>LONGITUDE_D</th>\n",
              "      <th>H-distance</th>\n",
              "    </tr>\n",
              "  </thead>\n",
              "  <tbody>\n",
              "    <tr>\n",
              "      <th>0</th>\n",
              "      <td>6</td>\n",
              "      <td>15016</td>\n",
              "      <td>15454</td>\n",
              "      <td>15454</td>\n",
              "      <td>38.747222</td>\n",
              "      <td>-90.364444</td>\n",
              "      <td>39.944167</td>\n",
              "      <td>-91.197222</td>\n",
              "      <td>151.134493</td>\n",
              "    </tr>\n",
              "    <tr>\n",
              "      <th>1</th>\n",
              "      <td>6</td>\n",
              "      <td>10800</td>\n",
              "      <td>13796</td>\n",
              "      <td>13796</td>\n",
              "      <td>34.200000</td>\n",
              "      <td>-118.357778</td>\n",
              "      <td>37.721389</td>\n",
              "      <td>-122.220833</td>\n",
              "      <td>523.538699</td>\n",
              "    </tr>\n",
              "    <tr>\n",
              "      <th>2</th>\n",
              "      <td>6</td>\n",
              "      <td>10327</td>\n",
              "      <td>12892</td>\n",
              "      <td>12892</td>\n",
              "      <td>38.212222</td>\n",
              "      <td>-122.280000</td>\n",
              "      <td>33.942500</td>\n",
              "      <td>-118.408056</td>\n",
              "      <td>588.499423</td>\n",
              "    </tr>\n",
              "    <tr>\n",
              "      <th>3</th>\n",
              "      <td>6</td>\n",
              "      <td>12211</td>\n",
              "      <td>14057</td>\n",
              "      <td>14057</td>\n",
              "      <td>35.972778</td>\n",
              "      <td>-115.134444</td>\n",
              "      <td>45.589167</td>\n",
              "      <td>-122.595000</td>\n",
              "      <td>1238.847332</td>\n",
              "    </tr>\n",
              "    <tr>\n",
              "      <th>4</th>\n",
              "      <td>6</td>\n",
              "      <td>13487</td>\n",
              "      <td>12451</td>\n",
              "      <td>12451</td>\n",
              "      <td>44.886111</td>\n",
              "      <td>-93.217778</td>\n",
              "      <td>30.484722</td>\n",
              "      <td>-81.687778</td>\n",
              "      <td>1891.376982</td>\n",
              "    </tr>\n",
              "    <tr>\n",
              "      <th>5</th>\n",
              "      <td>6</td>\n",
              "      <td>14689</td>\n",
              "      <td>13796</td>\n",
              "      <td>13796</td>\n",
              "      <td>34.427778</td>\n",
              "      <td>-119.839444</td>\n",
              "      <td>37.721389</td>\n",
              "      <td>-122.220833</td>\n",
              "      <td>424.143374</td>\n",
              "    </tr>\n",
              "    <tr>\n",
              "      <th>6</th>\n",
              "      <td>6</td>\n",
              "      <td>12455</td>\n",
              "      <td>12992</td>\n",
              "      <td>12992</td>\n",
              "      <td>35.830000</td>\n",
              "      <td>-90.648333</td>\n",
              "      <td>34.729167</td>\n",
              "      <td>-92.234444</td>\n",
              "      <td>188.972691</td>\n",
              "    </tr>\n",
              "    <tr>\n",
              "      <th>7</th>\n",
              "      <td>6</td>\n",
              "      <td>10721</td>\n",
              "      <td>12892</td>\n",
              "      <td>12892</td>\n",
              "      <td>42.363611</td>\n",
              "      <td>-71.006111</td>\n",
              "      <td>33.942500</td>\n",
              "      <td>-118.408056</td>\n",
              "      <td>4192.963746</td>\n",
              "    </tr>\n",
              "    <tr>\n",
              "      <th>8</th>\n",
              "      <td>6</td>\n",
              "      <td>13541</td>\n",
              "      <td>10800</td>\n",
              "      <td>10800</td>\n",
              "      <td>41.392778</td>\n",
              "      <td>-70.616667</td>\n",
              "      <td>34.200000</td>\n",
              "      <td>-118.357778</td>\n",
              "      <td>4216.043452</td>\n",
              "    </tr>\n",
              "    <tr>\n",
              "      <th>9</th>\n",
              "      <td>6</td>\n",
              "      <td>14908</td>\n",
              "      <td>11259</td>\n",
              "      <td>11259</td>\n",
              "      <td>33.675556</td>\n",
              "      <td>-117.866944</td>\n",
              "      <td>32.846944</td>\n",
              "      <td>-96.853333</td>\n",
              "      <td>1952.632867</td>\n",
              "    </tr>\n",
              "  </tbody>\n",
              "</table>\n",
              "</div>"
            ],
            "text/plain": [
              "   PASSENGERS  ORIGIN_AIRPORT_ID  ...  LONGITUDE_D   H-distance\n",
              "0           6              15016  ...   -91.197222   151.134493\n",
              "1           6              10800  ...  -122.220833   523.538699\n",
              "2           6              10327  ...  -118.408056   588.499423\n",
              "3           6              12211  ...  -122.595000  1238.847332\n",
              "4           6              13487  ...   -81.687778  1891.376982\n",
              "5           6              14689  ...  -122.220833   424.143374\n",
              "6           6              12455  ...   -92.234444   188.972691\n",
              "7           6              10721  ...  -118.408056  4192.963746\n",
              "8           6              13541  ...  -118.357778  4216.043452\n",
              "9           6              14908  ...   -96.853333  1952.632867\n",
              "\n",
              "[10 rows x 9 columns]"
            ]
          },
          "metadata": {
            "tags": []
          },
          "execution_count": 31
        }
      ]
    },
    {
      "cell_type": "markdown",
      "metadata": {
        "id": "wDwjWuQOqRUX",
        "colab_type": "text"
      },
      "source": [
        "Let's get the actual distances that one must fly to get between those airports"
      ]
    },
    {
      "cell_type": "code",
      "metadata": {
        "id": "1sHWOk1vqRUY",
        "colab_type": "code",
        "outputId": "c31bf77d-449a-4c0f-8683-23e5e67a5dc8",
        "colab": {
          "base_uri": "https://localhost:8080/",
          "height": 51
        }
      },
      "source": [
        "H = cugraph.Graph()\n",
        "#hdf[\"ORIGIN_AIRPORT_ID_0\"] = hdf[\"ORIGIN_AIRPORT_ID\"] - 10001\n",
        "#hdf[\"DEST_AIRPORT_ID_0\"] = hdf[\"DEST_AIRPORT_ID\"] - 10001\n",
        "#hdf[\"data\"] = 1.0\n",
        "H.add_edge_list(hdf[\"ORIGIN_AIRPORT_ID\"], hdf[\"DEST_AIRPORT_ID\"], hdf[\"H-distance\"])\n",
        "hgdf = cugraph.bfs(H,13930)"
      ],
      "execution_count": 0,
      "outputs": [
        {
          "output_type": "stream",
          "text": [
            "/usr/local/lib/python3.6/site-packages/cugraph/structure/graph.py:157: UserWarning: add_edge_list will be deprecated in next release. Use from_cudf_edgelist instead\n",
            "  Use from_cudf_edgelist instead')\n"
          ],
          "name": "stderr"
        }
      ]
    },
    {
      "cell_type": "markdown",
      "metadata": {
        "id": "MumSGhASqRUZ",
        "colab_type": "text"
      },
      "source": [
        "**Fun Fact** Deleting the -1s throws off your indexes and doesn't return you a valid answer.  Try it if you'd like!"
      ]
    },
    {
      "cell_type": "code",
      "metadata": {
        "id": "ygg2M1rJqRUa",
        "colab_type": "code",
        "colab": {}
      },
      "source": [
        "def print_dist_path(df, id):\n",
        "    # Use the BFS predecessors and distance to trace the path \n",
        "    # from vertex id back to the starting vertex ( vertex 1 in this example)\n",
        "    dist = df['distance'][id]\n",
        "    hdist = 0\n",
        "    print(\"Your overall flight has \" + str(dist) + \" hops\")\n",
        "    lastVert = id\n",
        "    for i in range(dist):\n",
        "        nextVert = df['predecessor'][lastVert]\n",
        "        d = df['distance'][lastVert]\n",
        "        a = hdf.query(\"ORIGIN_AIRPORT_ID == @nextVert and DEST_AIRPORT_ID == @lastVert\")\n",
        "        a.head()\n",
        "        hdist = hdist+ a[\"H-distance\"][0]\n",
        "        print(\"Airport: \" + str(lastVert) + \" was reached from Airport \" + str(nextVert) + \n",
        "        \" and flight distance was \" + str(a[\"H-distance\"][0]) )\n",
        "        lastVert = nextVert\n",
        "    print(\"Your total flying distance was \" + str(hdist))"
      ],
      "execution_count": 0,
      "outputs": []
    },
    {
      "cell_type": "code",
      "metadata": {
        "id": "YNGPsegtqRUc",
        "colab_type": "code",
        "outputId": "99e1d722-4dd7-4917-be8d-31a0f7bc649a",
        "colab": {
          "base_uri": "https://localhost:8080/",
          "height": 103
        }
      },
      "source": [
        "print_dist_path(hgdf, 16838)"
      ],
      "execution_count": 0,
      "outputs": [
        {
          "output_type": "stream",
          "text": [
            "Your overall flight has 3 hops\n",
            "Airport: 16838 was reached from Airport 13418 and flight distance was 235.3294186784242\n",
            "Airport: 13418 was reached from Airport 12197 and flight distance was 416.77900332448866\n",
            "Airport: 12197 was reached from Airport 13930 and flight distance was 1184.955067107391\n",
            "Your total flying distance was 1837.0634891103039\n"
          ],
          "name": "stdout"
        }
      ]
    },
    {
      "cell_type": "markdown",
      "metadata": {
        "id": "Sa-QS6DoqRUd",
        "colab_type": "text"
      },
      "source": [
        "Okay, pretty cool.  We now know the distance between these airports...but where are they in the world?  Normally, we'd use use [cuDataShader](https://github.com/rapidsai/cuDataShader) for this, but it is not a library in this container.  [They've got a great example here that you can adapt to your needs](https://github.com/rapidsai/cuDataShader/blob/master/cudatashader-notebooks/cuDatashader%20Edge%20Bundling%20(US%20air%20traffic).ipynb)"
      ]
    },
    {
      "cell_type": "markdown",
      "metadata": {
        "id": "mqmckz9mqRUe",
        "colab_type": "text"
      },
      "source": [
        "### Question 5: What is the topology of our airport network\n",
        "\n",
        "Let's look at the topology of this network of airports.  One way to do that is to measure the modularity of our airport system!  To do that, we use Louvain.  However, we need to make some changes to our data, as Louvain requires us to start from 0.  It also requires weights.  Let's see how weights change our answer.  We will use our Haversine distances as our weights in one set, and be unweighted in the next!"
      ]
    },
    {
      "cell_type": "code",
      "metadata": {
        "id": "zoR4AAZiqRUe",
        "colab_type": "code",
        "outputId": "d655ad95-15ba-4c63-c31c-b22d2f7c6551",
        "colab": {
          "base_uri": "https://localhost:8080/",
          "height": 51
        }
      },
      "source": [
        "L = cugraph.Graph()\n",
        "L2 = cugraph.Graph()\n",
        "hdf[\"ORIGIN_AIRPORT_ID_0\"] = hdf[\"ORIGIN_AIRPORT_ID\"] - 10001\n",
        "hdf[\"DEST_AIRPORT_ID_0\"] = hdf[\"DEST_AIRPORT_ID\"] - 10001\n",
        "hdf[\"data\"]= 1.0\n",
        "L2.add_edge_list(hdf[\"ORIGIN_AIRPORT_ID_0\"], hdf[\"DEST_AIRPORT_ID_0\"], hdf[\"data\"]) # Unweighted Modularity\n",
        "L.add_edge_list(hdf[\"ORIGIN_AIRPORT_ID_0\"], hdf[\"DEST_AIRPORT_ID_0\"], hdf[\"H-distance\"]) # Distance Weighted Modularity"
      ],
      "execution_count": 0,
      "outputs": [
        {
          "output_type": "stream",
          "text": [
            "/usr/local/lib/python3.6/site-packages/cugraph/structure/graph.py:157: UserWarning: add_edge_list will be deprecated in next release. Use from_cudf_edgelist instead\n",
            "  Use from_cudf_edgelist instead')\n"
          ],
          "name": "stderr"
        }
      ]
    },
    {
      "cell_type": "code",
      "metadata": {
        "id": "lOARkRBZqRUg",
        "colab_type": "code",
        "outputId": "904f5b3d-d830-4eb7-a5d9-094454e0bd92",
        "colab": {
          "base_uri": "https://localhost:8080/",
          "height": 86
        }
      },
      "source": [
        "# Call Louvain on the graph\n",
        "hgdf, mod = cugraph.louvain(L) \n",
        "hgdf2, mod2 =cugraph.louvain(L2) \n",
        "# Print the modularity score\n",
        "print('Modularity using Distance as a weight was {}'.format(mod))\n",
        "print()\n",
        "print('Modularity unweighted was {}'.format(mod2))\n",
        "print()"
      ],
      "execution_count": 0,
      "outputs": [
        {
          "output_type": "stream",
          "text": [
            "Modularity using Distance as a weight was 0.06543180748186618\n",
            "\n",
            "Modularity unweighted was 0.19843214099425677\n",
            "\n"
          ],
          "name": "stdout"
        }
      ]
    },
    {
      "cell_type": "code",
      "metadata": {
        "id": "woR0h30qqRUj",
        "colab_type": "code",
        "outputId": "30aa8a75-2372-496e-9b91-474a142cf817",
        "colab": {
          "base_uri": "https://localhost:8080/",
          "height": 355
        }
      },
      "source": [
        "hgdf.head(10)"
      ],
      "execution_count": 0,
      "outputs": [
        {
          "output_type": "execute_result",
          "data": {
            "text/html": [
              "<div>\n",
              "<style scoped>\n",
              "    .dataframe tbody tr th:only-of-type {\n",
              "        vertical-align: middle;\n",
              "    }\n",
              "\n",
              "    .dataframe tbody tr th {\n",
              "        vertical-align: top;\n",
              "    }\n",
              "\n",
              "    .dataframe thead th {\n",
              "        text-align: right;\n",
              "    }\n",
              "</style>\n",
              "<table border=\"1\" class=\"dataframe\">\n",
              "  <thead>\n",
              "    <tr style=\"text-align: right;\">\n",
              "      <th></th>\n",
              "      <th>vertex</th>\n",
              "      <th>partition</th>\n",
              "    </tr>\n",
              "  </thead>\n",
              "  <tbody>\n",
              "    <tr>\n",
              "      <th>0</th>\n",
              "      <td>0</td>\n",
              "      <td>0</td>\n",
              "    </tr>\n",
              "    <tr>\n",
              "      <th>1</th>\n",
              "      <td>1</td>\n",
              "      <td>1</td>\n",
              "    </tr>\n",
              "    <tr>\n",
              "      <th>2</th>\n",
              "      <td>2</td>\n",
              "      <td>2</td>\n",
              "    </tr>\n",
              "    <tr>\n",
              "      <th>3</th>\n",
              "      <td>3</td>\n",
              "      <td>3</td>\n",
              "    </tr>\n",
              "    <tr>\n",
              "      <th>4</th>\n",
              "      <td>4</td>\n",
              "      <td>4</td>\n",
              "    </tr>\n",
              "    <tr>\n",
              "      <th>5</th>\n",
              "      <td>5</td>\n",
              "      <td>47</td>\n",
              "    </tr>\n",
              "    <tr>\n",
              "      <th>6</th>\n",
              "      <td>6</td>\n",
              "      <td>5</td>\n",
              "    </tr>\n",
              "    <tr>\n",
              "      <th>7</th>\n",
              "      <td>7</td>\n",
              "      <td>6</td>\n",
              "    </tr>\n",
              "    <tr>\n",
              "      <th>8</th>\n",
              "      <td>8</td>\n",
              "      <td>148</td>\n",
              "    </tr>\n",
              "    <tr>\n",
              "      <th>9</th>\n",
              "      <td>9</td>\n",
              "      <td>710</td>\n",
              "    </tr>\n",
              "  </tbody>\n",
              "</table>\n",
              "</div>"
            ],
            "text/plain": [
              "   vertex  partition\n",
              "0       0          0\n",
              "1       1          1\n",
              "2       2          2\n",
              "3       3          3\n",
              "4       4          4\n",
              "5       5         47\n",
              "6       6          5\n",
              "7       7          6\n",
              "8       8        148\n",
              "9       9        710"
            ]
          },
          "metadata": {
            "tags": []
          },
          "execution_count": 37
        }
      ]
    },
    {
      "cell_type": "code",
      "metadata": {
        "id": "5YPpLC6zqRUn",
        "colab_type": "code",
        "outputId": "9a0b1c6c-fbb2-47a4-811c-e2d1a03af700",
        "colab": {
          "base_uri": "https://localhost:8080/",
          "height": 355
        }
      },
      "source": [
        "hgdf2.head(10)"
      ],
      "execution_count": 0,
      "outputs": [
        {
          "output_type": "execute_result",
          "data": {
            "text/html": [
              "<div>\n",
              "<style scoped>\n",
              "    .dataframe tbody tr th:only-of-type {\n",
              "        vertical-align: middle;\n",
              "    }\n",
              "\n",
              "    .dataframe tbody tr th {\n",
              "        vertical-align: top;\n",
              "    }\n",
              "\n",
              "    .dataframe thead th {\n",
              "        text-align: right;\n",
              "    }\n",
              "</style>\n",
              "<table border=\"1\" class=\"dataframe\">\n",
              "  <thead>\n",
              "    <tr style=\"text-align: right;\">\n",
              "      <th></th>\n",
              "      <th>vertex</th>\n",
              "      <th>partition</th>\n",
              "    </tr>\n",
              "  </thead>\n",
              "  <tbody>\n",
              "    <tr>\n",
              "      <th>0</th>\n",
              "      <td>0</td>\n",
              "      <td>0</td>\n",
              "    </tr>\n",
              "    <tr>\n",
              "      <th>1</th>\n",
              "      <td>1</td>\n",
              "      <td>1</td>\n",
              "    </tr>\n",
              "    <tr>\n",
              "      <th>2</th>\n",
              "      <td>2</td>\n",
              "      <td>2</td>\n",
              "    </tr>\n",
              "    <tr>\n",
              "      <th>3</th>\n",
              "      <td>3</td>\n",
              "      <td>3</td>\n",
              "    </tr>\n",
              "    <tr>\n",
              "      <th>4</th>\n",
              "      <td>4</td>\n",
              "      <td>1323</td>\n",
              "    </tr>\n",
              "    <tr>\n",
              "      <th>5</th>\n",
              "      <td>5</td>\n",
              "      <td>3033</td>\n",
              "    </tr>\n",
              "    <tr>\n",
              "      <th>6</th>\n",
              "      <td>6</td>\n",
              "      <td>4</td>\n",
              "    </tr>\n",
              "    <tr>\n",
              "      <th>7</th>\n",
              "      <td>7</td>\n",
              "      <td>5</td>\n",
              "    </tr>\n",
              "    <tr>\n",
              "      <th>8</th>\n",
              "      <td>8</td>\n",
              "      <td>3033</td>\n",
              "    </tr>\n",
              "    <tr>\n",
              "      <th>9</th>\n",
              "      <td>9</td>\n",
              "      <td>4442</td>\n",
              "    </tr>\n",
              "  </tbody>\n",
              "</table>\n",
              "</div>"
            ],
            "text/plain": [
              "   vertex  partition\n",
              "0       0          0\n",
              "1       1          1\n",
              "2       2          2\n",
              "3       3          3\n",
              "4       4       1323\n",
              "5       5       3033\n",
              "6       6          4\n",
              "7       7          5\n",
              "8       8       3033\n",
              "9       9       4442"
            ]
          },
          "metadata": {
            "tags": []
          },
          "execution_count": 38
        }
      ]
    },
    {
      "cell_type": "markdown",
      "metadata": {
        "id": "y-ZFMkR_qRUs",
        "colab_type": "text"
      },
      "source": [
        "That's a high partition number for both graphs.  This is of course, based on a small dataset of flights.  I'll be working on a larger one in notebooks_contrib that uses DOT 2015 Flight data and use cuDataShader for graph visualizations.  Let's see what the value counts look like."
      ]
    },
    {
      "cell_type": "code",
      "metadata": {
        "id": "KbV8EdZ_qRUu",
        "colab_type": "code",
        "outputId": "0a33f927-8bd4-4de8-e5dd-88b8152a433b",
        "colab": {
          "base_uri": "https://localhost:8080/",
          "height": 51
        }
      },
      "source": [
        "print(len(hgdf['partition'].unique()))\n",
        "print(len(hgdf2['partition'].unique()))"
      ],
      "execution_count": 0,
      "outputs": [
        {
          "output_type": "stream",
          "text": [
            "6055\n",
            "5715\n"
          ],
          "name": "stdout"
        }
      ]
    },
    {
      "cell_type": "code",
      "metadata": {
        "id": "UTJIFaH1qRUw",
        "colab_type": "code",
        "outputId": "374be53b-7cad-47dc-a146-8fe4cf790b78",
        "colab": {
          "base_uri": "https://localhost:8080/",
          "height": 225
        }
      },
      "source": [
        "hgdf['partition'].value_counts()"
      ],
      "execution_count": 0,
      "outputs": [
        {
          "output_type": "execute_result",
          "data": {
            "text/plain": [
              "2608    100\n",
              "260      84\n",
              "507      66\n",
              "2891     47\n",
              "1910     38\n",
              "       ... \n",
              "6050      1\n",
              "6051      1\n",
              "6052      1\n",
              "6053      1\n",
              "6054      1\n",
              "Name: partition, Length: 6055, dtype: int32"
            ]
          },
          "metadata": {
            "tags": []
          },
          "execution_count": 40
        }
      ]
    },
    {
      "cell_type": "code",
      "metadata": {
        "id": "HzxPWufeqRUy",
        "colab_type": "code",
        "outputId": "529b43de-8121-4992-d92a-925129fcf24b",
        "colab": {
          "base_uri": "https://localhost:8080/",
          "height": 225
        }
      },
      "source": [
        "hgdf2['partition'].value_counts()"
      ],
      "execution_count": 0,
      "outputs": [
        {
          "output_type": "execute_result",
          "data": {
            "text/plain": [
              "4442    645\n",
              "4012    150\n",
              "1323     49\n",
              "4343     43\n",
              "4711     42\n",
              "       ... \n",
              "5710      1\n",
              "5711      1\n",
              "5712      1\n",
              "5713      1\n",
              "5714      1\n",
              "Name: partition, Length: 5715, dtype: int32"
            ]
          },
          "metadata": {
            "tags": []
          },
          "execution_count": 41
        }
      ]
    },
    {
      "cell_type": "markdown",
      "metadata": {
        "id": "SFEsJZG6qRU0",
        "colab_type": "text"
      },
      "source": [
        "It seems that the unweighted graph has fewer and larger communities (which makes sense).  Let's remove partitions of 1 from our assessment and get a full count of how many communities each graph has.  1 is too lonely of a number."
      ]
    },
    {
      "cell_type": "code",
      "metadata": {
        "id": "r-lfVyAVqRU1",
        "colab_type": "code",
        "colab": {}
      },
      "source": [
        "def get_mod(df):\n",
        "    val_counts = df['partition'].value_counts()\n",
        "    relevant_partitions = val_counts[val_counts>1].index\n",
        "    print(len(relevant_partitions))\n",
        "    query = 'partition == '+ str(relevant_partitions[0])\n",
        "    for i in range (1, len(relevant_partitions)):\n",
        "            query += ' or partition == '+ str(relevant_partitions[i])\n",
        "    return df.query(query)"
      ],
      "execution_count": 0,
      "outputs": []
    },
    {
      "cell_type": "code",
      "metadata": {
        "id": "2ufZvQjbqRU3",
        "colab_type": "code",
        "colab": {}
      },
      "source": [
        "# How many partitions where found\n",
        "def get_partitions(df):\n",
        "    parts=[]\n",
        "    part_ids = df[\"partition\"].unique()\n",
        "    for p in range(len(part_ids)):\n",
        "        part = []\n",
        "        for i in range(len(df)):\n",
        "            #print(df['partition'][i])\n",
        "            if (df['partition'][i] == part_ids[p]):\n",
        "                part.append(df['vertex'][i] +1+10001)\n",
        "        print(\"Partition \" + str(part_ids[p]) + \" contains these airports:\")\n",
        "        print(part)\n",
        "        parts.append(part)\n",
        "    return parts"
      ],
      "execution_count": 0,
      "outputs": []
    },
    {
      "cell_type": "code",
      "metadata": {
        "id": "dXx_audZqRU5",
        "colab_type": "code",
        "outputId": "f70765fb-70d0-4def-a469-51d3ce49f857",
        "colab": {
          "base_uri": "https://localhost:8080/",
          "height": 271
        }
      },
      "source": [
        "print(\"Number of partitions > 1 in Distance Weighted Modularity:\")\n",
        "hgdf_1 = get_mod(hgdf)\n",
        "print(\"Number of partitions > 1 in Unweighted Modularity:\")\n",
        "hgdf_2 = get_mod(hgdf2)\n",
        "\n",
        "hgdf_1.head()"
      ],
      "execution_count": 0,
      "outputs": [
        {
          "output_type": "stream",
          "text": [
            "Number of partitions > 1 in Distance Weighted Modularity:\n",
            "72\n",
            "Number of partitions > 1 in Unweighted Modularity:\n",
            "31\n"
          ],
          "name": "stdout"
        },
        {
          "output_type": "execute_result",
          "data": {
            "text/html": [
              "<div>\n",
              "<style scoped>\n",
              "    .dataframe tbody tr th:only-of-type {\n",
              "        vertical-align: middle;\n",
              "    }\n",
              "\n",
              "    .dataframe tbody tr th {\n",
              "        vertical-align: top;\n",
              "    }\n",
              "\n",
              "    .dataframe thead th {\n",
              "        text-align: right;\n",
              "    }\n",
              "</style>\n",
              "<table border=\"1\" class=\"dataframe\">\n",
              "  <thead>\n",
              "    <tr style=\"text-align: right;\">\n",
              "      <th></th>\n",
              "      <th>vertex</th>\n",
              "      <th>partition</th>\n",
              "    </tr>\n",
              "  </thead>\n",
              "  <tbody>\n",
              "    <tr>\n",
              "      <th>5</th>\n",
              "      <td>5</td>\n",
              "      <td>47</td>\n",
              "    </tr>\n",
              "    <tr>\n",
              "      <th>8</th>\n",
              "      <td>8</td>\n",
              "      <td>148</td>\n",
              "    </tr>\n",
              "    <tr>\n",
              "      <th>9</th>\n",
              "      <td>9</td>\n",
              "      <td>710</td>\n",
              "    </tr>\n",
              "    <tr>\n",
              "      <th>15</th>\n",
              "      <td>15</td>\n",
              "      <td>1920</td>\n",
              "    </tr>\n",
              "    <tr>\n",
              "      <th>16</th>\n",
              "      <td>16</td>\n",
              "      <td>47</td>\n",
              "    </tr>\n",
              "  </tbody>\n",
              "</table>\n",
              "</div>"
            ],
            "text/plain": [
              "    vertex  partition\n",
              "5        5         47\n",
              "8        8        148\n",
              "9        9        710\n",
              "15      15       1920\n",
              "16      16         47"
            ]
          },
          "metadata": {
            "tags": []
          },
          "execution_count": 44
        }
      ]
    },
    {
      "cell_type": "code",
      "metadata": {
        "id": "3IYxrH5hqRU6",
        "colab_type": "code",
        "outputId": "2b4d1da2-29af-44ed-d5b8-cd554ee3f3da",
        "colab": {
          "base_uri": "https://localhost:8080/",
          "height": 1000
        }
      },
      "source": [
        "print(\"------Distance Weighted Modularity------\")\n",
        "parts_hgdf_1 = get_partitions(hgdf_1)\n",
        "print(\"------Unweighted Modularity------\")\n",
        "parts_hgdf_2 = get_partitions(hgdf_2)"
      ],
      "execution_count": 0,
      "outputs": [
        {
          "output_type": "stream",
          "text": [
            "------Distance Weighted Modularity------\n",
            "Partition 47 contains these airports:\n",
            "[10007, 10018, 10043, 10044, 10057, 10064, 10079, 10101, 10244, 10279, 11514, 12510, 12706, 12713, 12744, 12786, 12870, 13864, 13889, 14632, 15092, 15837]\n",
            "Partition 136 contains these airports:\n",
            "[10158, 10172, 13288]\n",
            "Partition 143 contains these airports:\n",
            "[10166, 12322, 12756, 14739]\n",
            "Partition 148 contains these airports:\n",
            "[10010, 10048, 10171, 11300, 11337, 13715, 14856, 14920, 15733]\n",
            "Partition 161 contains these airports:\n",
            "[10186, 10435, 11790, 12056, 12157, 13231, 14198, 14260]\n",
            "Partition 192 contains these airports:\n",
            "[10222, 10926, 11199, 13201, 14661]\n",
            "Partition 195 contains these airports:\n",
            "[10225, 15326]\n",
            "Partition 212 contains these airports:\n",
            "[10246, 10927, 11228, 11393, 11493, 11556, 11998, 12172, 12176, 12611, 12636, 12642, 12709, 12721, 12729, 12780, 13004, 14469, 15449]\n",
            "Partition 260 contains these airports:\n",
            "[10226, 10238, 10248, 10300, 10314, 10381, 10541, 10552, 10616, 10755, 10784, 10918, 11004, 11054, 11338, 11434, 11446, 11472, 11512, 11513, 11536, 11551, 11560, 11638, 11814, 11826, 11834, 11846, 11942, 11953, 12008, 12088, 12120, 12196, 12198, 12295, 12616, 12639, 12654, 12664, 12672, 12705, 12749, 12770, 12785, 12820, 12823, 12842, 13088, 13399, 13486, 13580, 13705, 13716, 13768, 13943, 13971, 14047, 14131, 14168, 14213, 14274, 14322, 14486, 14494, 14710, 14806, 14817, 14872, 14881, 15013, 15058, 15064, 15087, 15237, 15305, 15498, 15701, 15710, 15722, 15839, 15854, 16312, 16568]\n",
            "Partition 299 contains these airports:\n",
            "[10345, 12787]\n",
            "Partition 346 contains these airports:\n",
            "[10398, 10479, 10591, 10614, 10732, 11147, 11309, 11414, 11538, 11618, 11649, 11712, 11779, 11868, 13291, 13349, 13487, 14005, 14289, 14458, 14784, 15381, 15608, 16092]\n",
            "Partition 487 contains these airports:\n",
            "[10557, 12783]\n",
            "Partition 489 contains these airports:\n",
            "[10437, 10560, 10648, 11050, 11526, 11589, 11657, 11729, 11812, 12192, 12201, 12397, 12900, 13062, 13205, 13361, 13462, 13852, 13866, 13899, 13937, 13969, 14051, 14113, 14315, 14321, 14684, 14696, 14811, 14906, 14973, 16811]\n",
            "Partition 507 contains these airports:\n",
            "[10136, 10209, 10258, 10299, 10424, 10530, 10562, 10582, 10686, 10722, 10779, 10793, 10801, 10822, 10981, 11058, 11067, 11068, 11124, 11141, 11194, 11260, 11424, 11583, 11828, 11962, 11974, 11978, 11987, 11997, 12324, 12993, 13030, 13233, 13342, 13343, 13389, 13542, 13796, 13872, 13965, 14028, 14083, 14101, 14114, 14123, 14194, 14304, 14490, 14493, 14513, 14525, 14540, 14578, 14634, 14686, 14697, 14731, 14772, 15017, 15042, 15097, 15390, 15413, 15619, 15920]\n",
            "Partition 676 contains these airports:\n",
            "[10350, 10397, 10776, 12808, 13112, 14103, 14126, 15582, 16669]\n",
            "Partition 682 contains these airports:\n",
            "[10155, 10432, 10786, 11639, 11696, 12889, 14253, 14712, 14717, 15296]\n",
            "Partition 710 contains these airports:\n",
            "[10011, 10362, 10816, 11843, 12338, 12398, 14232, 14554, 15616, 16570]\n",
            "Partition 805 contains these airports:\n",
            "[10919, 11604, 13485, 14795, 15623]\n",
            "Partition 843 contains these airports:\n",
            "[10962, 11368, 12253, 12254, 12858, 13505, 13694, 16346, 16347]\n",
            "Partition 921 contains these airports:\n",
            "[11051, 13547, 15043]\n",
            "Partition 984 contains these airports:\n",
            "[11086, 11123, 12390, 13378, 14631, 16670]\n",
            "Partition 1168 contains these airports:\n",
            "[11215, 11328, 12869, 13382, 13769, 14475, 14552, 14560, 15125, 15505]\n",
            "Partition 1288 contains these airports:\n",
            "[11460, 14476]\n",
            "Partition 1356 contains these airports:\n",
            "[10748, 10820, 11151, 11541, 12017, 12128, 12893, 14762, 15216, 15250, 16219, 16790]\n",
            "Partition 1376 contains these airports:\n",
            "[11204, 11564, 11981, 11983, 12207, 12892, 13257, 13265, 13434, 14488, 14544, 14843, 14961]\n",
            "Partition 1399 contains these airports:\n",
            "[11591, 12079, 15012]\n",
            "Partition 1442 contains these airports:\n",
            "[10140, 10242, 10305, 10406, 11644, 12215, 12236, 12677, 12720, 12856, 13197, 13293, 13370, 13435, 13941, 15473, 15555, 15786]\n",
            "Partition 1445 contains these airports:\n",
            "[11647, 11763, 14573, 15857]\n",
            "Partition 1464 contains these airports:\n",
            "[11669, 13274, 13620]\n",
            "Partition 1489 contains these airports:\n",
            "[10280, 10326, 10409, 10495, 10677, 11112, 11234, 11687, 11698, 11715, 11722, 11733, 11776, 12095, 12266, 12545, 12918, 12946, 13440, 13502, 13541, 13797, 13934, 14026, 14109, 14951, 16102]\n",
            "Partition 1548 contains these airports:\n",
            "[10373, 10520, 10578, 10667, 11099, 11110, 11765, 11900, 12493, 12759, 12917, 13035, 13110, 13985, 14151, 14531, 16430, 16526]\n",
            "Partition 1615 contains these airports:\n",
            "[10185, 11035, 11845, 11925, 13514, 15062, 15580, 15726]\n",
            "Partition 1635 contains these airports:\n",
            "[11866, 13242, 16707]\n",
            "Partition 1714 contains these airports:\n",
            "[10147, 11720, 11835, 11954, 12885, 13128, 15375]\n",
            "Partition 1910 contains these airports:\n",
            "[10141, 10440, 10467, 10621, 10714, 10733, 10782, 10850, 10983, 11043, 11279, 11619, 11631, 11727, 11885, 11906, 12174, 12265, 12267, 12366, 12403, 12442, 12479, 12890, 12897, 13237, 13423, 13488, 13892, 13931, 14255, 14571, 14793, 14832, 14870, 14909, 15562, 16499]\n",
            "Partition 1911 contains these airports:\n",
            "[12175, 13348]\n",
            "Partition 1920 contains these airports:\n",
            "[10017, 10066, 10086, 10417, 12185, 14089, 14719, 15070, 15229, 15479]\n",
            "Partition 1945 contains these airports:\n",
            "[10475, 12217, 13526]\n",
            "Partition 1986 contains these airports:\n",
            "[12269, 15246]\n",
            "Partition 2050 contains these airports:\n",
            "[10671, 10950, 11042, 11504, 11670, 12137, 12340, 12933, 12935, 13185, 13199, 13521, 13831, 14007, 14675, 14844, 15625, 16840]\n",
            "Partition 2331 contains these airports:\n",
            "[12650, 14943]\n",
            "Partition 2391 contains these airports:\n",
            "[12722, 12832, 15294, 15863]\n",
            "Partition 2406 contains these airports:\n",
            "[12738, 13711, 14120, 15386]\n",
            "Partition 2435 contains these airports:\n",
            "[12648, 12772, 12855, 15447]\n",
            "Partition 2436 contains these airports:\n",
            "[12773, 12867, 13935]\n",
            "Partition 2473 contains these airports:\n",
            "[11485, 12634, 12816, 14230, 14271, 15742, 15755, 15794]\n",
            "Partition 2575 contains these airports:\n",
            "[11392, 12948, 15155]\n",
            "Partition 2579 contains these airports:\n",
            "[10729, 12952, 13578, 14110, 14820, 15028, 15357, 15412, 15455, 15627]\n",
            "Partition 2581 contains these airports:\n",
            "[10559, 10780, 11482, 11613, 11642, 11899, 12389, 12954, 14987, 15602]\n",
            "Partition 2608 contains these airports:\n",
            "[10156, 10217, 10310, 10330, 10379, 10415, 10470, 10566, 10570, 10590, 10631, 10858, 10951, 10965, 11107, 11289, 11293, 11296, 11299, 11422, 11494, 11565, 11616, 11625, 11651, 11676, 11791, 12013, 12109, 12223, 12245, 12251, 12471, 12495, 12575, 12588, 12883, 12945, 12955, 12983, 13009, 13126, 13152, 13204, 13283, 13393, 13447, 13451, 13471, 13477, 13494, 13506, 13508, 13536, 13656, 13675, 13686, 13732, 13846, 13959, 13988, 13989, 14082, 14108, 14263, 14307, 14649, 14673, 14680, 14690, 14713, 14714, 14737, 14770, 14779, 14876, 14878, 14997, 15009, 15025, 15031, 15168, 15178, 15204, 15377, 15441, 15482, 15499, 15530, 15629, 15657, 15856, 15932, 16455, 16527, 16542, 16544, 16644, 16796, 16802]\n",
            "Partition 2627 contains these airports:\n",
            "[10845, 12653, 13003, 13056, 14296, 14629, 15708, 16604, 16652]\n",
            "Partition 2690 contains these airports:\n",
            "[12966, 13073, 13140]\n",
            "Partition 2875 contains these airports:\n",
            "[13284, 14671]\n",
            "Partition 2891 contains these airports:\n",
            "[10159, 10199, 10328, 10684, 10875, 10991, 11253, 11268, 11377, 11471, 11578, 11824, 11922, 12004, 12029, 12212, 12224, 12281, 12321, 12392, 12449, 12879, 12899, 13077, 13304, 13368, 13503, 13668, 13932, 14055, 14058, 14099, 14183, 14276, 14308, 14575, 14894, 14953, 15044, 15071, 15154, 15571, 16134, 16354, 16817, 16822, 16830]\n",
            "Partition 3036 contains these airports:\n",
            "[10641, 11281, 11412, 12584, 12845, 13468, 13677, 13807, 13842, 13874, 14235, 14628, 14805, 14896, 15161, 15172, 15251, 15279, 15407, 15862, 15935]\n",
            "Partition 3113 contains these airports:\n",
            "[10205, 10698, 13565, 14063, 14257, 14829, 15232]\n",
            "Partition 3214 contains these airports:\n",
            "[13672, 15212]\n",
            "Partition 3239 contains these airports:\n",
            "[11825, 13701, 13737]\n",
            "Partition 3266 contains these airports:\n",
            "[13733, 16820]\n",
            "Partition 3301 contains these airports:\n",
            "[12710, 12852, 12854, 13771, 13895, 14857, 15086, 15283]\n",
            "Partition 3511 contains these airports:\n",
            "[14014, 15050, 15795]\n",
            "Partition 3692 contains these airports:\n",
            "[13827, 14223, 16648]\n",
            "Partition 3703 contains these airports:\n",
            "[10644, 13571, 14237, 14534, 15324, 16543]\n",
            "Partition 3730 contains these airports:\n",
            "[14269, 14413, 15258, 15799, 15888]\n",
            "Partition 3774 contains these airports:\n",
            "[14324, 14478]\n",
            "Partition 4008 contains these airports:\n",
            "[14583, 14956]\n",
            "Partition 4146 contains these airports:\n",
            "[10137, 10195, 10276, 10600, 10628, 10694, 10869, 10995, 11996, 12218, 12279, 12452, 12524, 12916, 13106, 13159, 13245, 13278, 13297, 13496, 13772, 14577, 14636, 14699, 14748, 14815, 15091, 15371, 15842, 15992]\n",
            "Partition 4243 contains these airports:\n",
            "[14864, 16391]\n",
            "Partition 4314 contains these airports:\n",
            "[14946, 14993]\n",
            "Partition 4379 contains these airports:\n",
            "[15021, 15024, 15343, 15448]\n",
            "Partition 4398 contains these airports:\n",
            "[15049, 15384, 15402]\n",
            "Partition 5046 contains these airports:\n",
            "[10928, 10976, 12546, 12547, 13016, 15347, 15780, 16816]\n",
            "------Unweighted Modularity------\n",
            "Partition 41 contains these airports:\n",
            "[10017, 10018, 10043, 10044, 10057, 10064, 10079, 10101, 10279, 12648, 12713, 12744, 12772, 12786, 12855, 12870, 13889, 14632, 15447, 15837]\n",
            "Partition 450 contains these airports:\n",
            "[10557, 12706, 12783, 15092]\n",
            "Partition 835 contains these airports:\n",
            "[10997, 11029, 14494, 14881, 14988]\n",
            "Partition 954 contains these airports:\n",
            "[11175, 16793]\n",
            "Partition 1101 contains these airports:\n",
            "[11349, 15052]\n",
            "Partition 1191 contains these airports:\n",
            "[11460, 14476]\n",
            "Partition 1291 contains these airports:\n",
            "[11591, 12079]\n",
            "Partition 1323 contains these airports:\n",
            "[10006, 10015, 10040, 10041, 10077, 10185, 10248, 10350, 10784, 10939, 11008, 11037, 11215, 11246, 11328, 11464, 11560, 11631, 11644, 11834, 11845, 12123, 12142, 12215, 12236, 12371, 12622, 12869, 13293, 13382, 13416, 13941, 14475, 14552, 14560, 15062, 15125, 15155, 15237, 15473, 15505, 15582, 15600, 15672, 15726, 15732, 16340, 16585, 16721]\n",
            "Partition 1517 contains these airports:\n",
            "[10012, 10464, 10662, 11400, 11870, 12298, 12746, 13537, 14082, 14092, 15533, 16429, 16838]\n",
            "Partition 1525 contains these airports:\n",
            "[11880, 14746]\n",
            "Partition 1565 contains these airports:\n",
            "[10617, 11035, 11518, 11860, 11925, 12994, 13514, 13565, 13575, 14219, 15580]\n",
            "Partition 1649 contains these airports:\n",
            "[12029, 14379]\n",
            "Partition 1803 contains these airports:\n",
            "[11825, 12217, 13526, 13701, 13737]\n",
            "Partition 1927 contains these airports:\n",
            "[12376, 15149]\n",
            "Partition 2262 contains these airports:\n",
            "[10244, 11300, 12773, 12867, 13864, 13935, 14856]\n",
            "Partition 2444 contains these airports:\n",
            "[10845, 11647, 12653, 13003, 13056, 14296, 14324, 14478, 14573, 14629, 15708, 15857, 16604, 16652]\n",
            "Partition 2837 contains these airports:\n",
            "[11411, 11556, 12584, 13468, 14864, 15172, 15407, 15935, 16391]\n",
            "Partition 3006 contains these airports:\n",
            "[13672, 15212]\n",
            "Partition 3033 contains these airports:\n",
            "[10007, 10010, 10048, 10166, 10171, 10238, 10246, 10300, 10345, 10918, 11393, 11446, 11514, 11826, 12295, 12316, 12639, 12664, 12749, 12756, 12785, 12787, 12842, 13004, 13705, 14168, 14269, 14413, 14469, 14739, 14920, 15013, 15701, 15733, 15839, 16568]\n",
            "Partition 3057 contains these airports:\n",
            "[13733, 16820]\n",
            "Partition 3373 contains these airports:\n",
            "[11054, 11337, 11512, 12322, 12636, 12642, 12654, 12672, 12717, 12721, 14120, 14274, 14317, 15087, 15449, 15854]\n",
            "Partition 3445 contains these airports:\n",
            "[11166, 14202, 15196]\n",
            "Partition 3463 contains these airports:\n",
            "[13827, 14223, 16648]\n",
            "Partition 4000 contains these airports:\n",
            "[14882, 15435]\n",
            "Partition 4012 contains these airports:\n",
            "[10142, 10158, 10173, 10209, 10222, 10256, 10269, 10276, 10326, 10328, 10373, 10386, 10409, 10420, 10437, 10440, 10466, 10560, 10582, 10591, 10631, 10632, 10648, 10667, 10681, 10779, 10839, 10919, 10926, 10931, 10983, 11030, 11042, 11051, 11099, 11219, 11471, 11564, 11589, 11604, 11639, 11696, 11729, 11763, 11791, 11812, 11828, 11872, 11885, 11899, 11906, 11922, 12004, 12055, 12063, 12128, 12130, 12135, 12137, 12174, 12175, 12201, 12248, 12255, 12321, 12344, 12364, 12403, 12442, 12493, 12599, 12759, 12893, 12983, 13035, 13110, 13128, 13152, 13159, 13195, 13199, 13205, 13265, 13296, 13348, 13389, 13470, 13477, 13487, 13488, 13496, 13521, 13541, 13600, 13772, 13797, 13831, 13937, 13969, 14028, 14051, 14055, 14058, 14114, 14216, 14237, 14253, 14304, 14488, 14490, 14493, 14531, 14661, 14673, 14675, 14680, 14690, 14713, 14750, 14795, 14811, 14878, 14894, 14899, 14906, 14968, 14973, 15009, 15021, 15024, 15044, 15055, 15178, 15233, 15290, 15324, 15326, 15343, 15352, 15382, 15384, 15394, 15448, 15562, 15619, 15878, 16102, 16543, 16821, 16822]\n",
            "Partition 4056 contains these airports:\n",
            "[14946, 14993]\n",
            "Partition 4312 contains these airports:\n",
            "[10051, 10066, 10086, 10242, 10314, 10552, 11242, 12185, 12510, 12616, 12650, 12677, 12720, 13197, 13677, 13769, 14089, 14628, 14817, 14943, 15064, 15070, 15161, 15229, 15251, 15258, 15279, 15479, 15710, 16312]\n",
            "Partition 4343 contains these airports:\n",
            "[10305, 10406, 11228, 11493, 11513, 11551, 11814, 11953, 12196, 12709, 12710, 12722, 12738, 12770, 12780, 12832, 12852, 12854, 12856, 13370, 13435, 13580, 13711, 13715, 13716, 13771, 13895, 14014, 14047, 14131, 14283, 14719, 15086, 15283, 15294, 15386, 15555, 15677, 15799, 15863, 15882, 15888, 16805]\n",
            "Partition 4442 contains these airports:\n",
            "[10011, 10136, 10137, 10141, 10147, 10155, 10156, 10159, 10172, 10186, 10195, 10199, 10217, 10225, 10258, 10268, 10273, 10280, 10295, 10299, 10301, 10310, 10323, 10330, 10334, 10349, 10362, 10375, 10381, 10398, 10401, 10410, 10415, 10424, 10432, 10435, 10467, 10470, 10475, 10479, 10505, 10509, 10512, 10520, 10530, 10536, 10541, 10544, 10558, 10559, 10562, 10563, 10566, 10574, 10578, 10590, 10600, 10614, 10616, 10621, 10628, 10644, 10655, 10664, 10671, 10677, 10684, 10686, 10688, 10694, 10714, 10722, 10729, 10732, 10733, 10740, 10745, 10748, 10780, 10781, 10782, 10786, 10793, 10801, 10816, 10820, 10822, 10837, 10850, 10858, 10869, 10875, 10911, 10927, 10928, 10934, 10946, 10950, 10951, 10966, 10968, 10976, 10981, 10991, 10995, 11004, 11014, 11028, 11043, 11050, 11058, 11067, 11068, 11077, 11086, 11093, 11098, 11107, 11110, 11112, 11123, 11124, 11127, 11136, 11141, 11147, 11151, 11194, 11198, 11204, 11234, 11253, 11260, 11268, 11275, 11279, 11284, 11289, 11293, 11296, 11299, 11309, 11316, 11338, 11345, 11376, 11377, 11392, 11414, 11416, 11422, 11424, 11431, 11434, 11435, 11442, 11448, 11454, 11457, 11469, 11472, 11480, 11482, 11491, 11494, 11496, 11504, 11511, 11526, 11532, 11538, 11541, 11565, 11578, 11583, 11588, 11593, 11613, 11616, 11618, 11619, 11625, 11628, 11638, 11642, 11649, 11651, 11657, 11660, 11669, 11676, 11685, 11698, 11700, 11712, 11720, 11722, 11726, 11727, 11733, 11746, 11765, 11774, 11776, 11779, 11790, 11824, 11835, 11843, 11863, 11866, 11868, 11871, 11900, 11932, 11954, 11962, 11974, 11978, 11981, 11983, 11987, 11993, 11996, 11997, 12008, 12009, 12013, 12017, 12022, 12040, 12056, 12069, 12071, 12095, 12109, 12120, 12125, 12148, 12150, 12157, 12178, 12191, 12192, 12198, 12207, 12208, 12212, 12218, 12223, 12224, 12229, 12234, 12245, 12251, 12256, 12265, 12266, 12267, 12279, 12281, 12284, 12307, 12324, 12333, 12336, 12340, 12349, 12366, 12389, 12390, 12392, 12397, 12398, 12413, 12449, 12452, 12456, 12471, 12475, 12479, 12495, 12512, 12520, 12524, 12545, 12546, 12547, 12554, 12560, 12575, 12588, 12662, 12820, 12879, 12883, 12885, 12889, 12890, 12892, 12897, 12899, 12900, 12903, 12916, 12917, 12918, 12933, 12945, 12946, 12948, 12952, 12954, 12955, 12966, 12993, 13009, 13016, 13025, 13030, 13033, 13059, 13062, 13073, 13077, 13088, 13106, 13122, 13126, 13140, 13153, 13183, 13185, 13189, 13193, 13201, 13204, 13212, 13222, 13231, 13233, 13242, 13245, 13257, 13278, 13283, 13291, 13297, 13304, 13308, 13339, 13342, 13343, 13345, 13349, 13361, 13368, 13378, 13399, 13419, 13423, 13434, 13440, 13451, 13454, 13460, 13462, 13485, 13486, 13491, 13494, 13502, 13503, 13506, 13508, 13536, 13538, 13542, 13544, 13547, 13571, 13578, 13588, 13596, 13620, 13656, 13668, 13675, 13683, 13686, 13732, 13783, 13792, 13796, 13809, 13810, 13825, 13830, 13833, 13846, 13852, 13866, 13871, 13872, 13885, 13892, 13899, 13931, 13932, 13934, 13959, 13965, 13984, 13985, 13988, 13989, 14005, 14007, 14010, 14026, 14045, 14083, 14090, 14093, 14099, 14101, 14102, 14108, 14109, 14110, 14113, 14121, 14123, 14132, 14151, 14183, 14194, 14198, 14213, 14232, 14238, 14255, 14256, 14260, 14263, 14276, 14289, 14307, 14308, 14315, 14321, 14322, 14333, 14398, 14458, 14466, 14471, 14489, 14513, 14521, 14525, 14534, 14535, 14540, 14544, 14554, 14571, 14575, 14577, 14578, 14583, 14589, 14619, 14631, 14634, 14636, 14649, 14657, 14671, 14684, 14686, 14692, 14696, 14697, 14699, 14705, 14712, 14714, 14717, 14731, 14745, 14748, 14752, 14754, 14762, 14772, 14784, 14793, 14803, 14813, 14815, 14820, 14829, 14832, 14843, 14844, 14870, 14872, 14876, 14909, 14939, 14944, 14953, 14956, 14961, 14976, 14987, 14997, 15011, 15012, 15017, 15025, 15028, 15031, 15042, 15043, 15049, 15058, 15071, 15075, 15091, 15097, 15139, 15154, 15168, 15216, 15250, 15261, 15272, 15296, 15305, 15347, 15357, 15371, 15375, 15377, 15381, 15390, 15402, 15412, 15413, 15428, 15455, 15482, 15498, 15499, 15530, 15535, 15570, 15571, 15583, 15602, 15608, 15616, 15621, 15623, 15625, 15626, 15627, 15629, 15640, 15657, 15780, 15826, 15848, 15856, 15880, 15883, 15898, 15920, 15973, 15992, 16092, 16134, 16219, 16354, 16427, 16443, 16455, 16464, 16499, 16501, 16521, 16526, 16527, 16529, 16541, 16554, 16556, 16559, 16569, 16570, 16586, 16589, 16625, 16629, 16635, 16644, 16659, 16667, 16670, 16681, 16683, 16684, 16707, 16716, 16720, 16725, 16726, 16730, 16745, 16765, 16771, 16772, 16775, 16777, 16778, 16784, 16790, 16791, 16792, 16794, 16802, 16808, 16811, 16812, 16813, 16814, 16816, 16817, 16824, 16830, 16839, 16840, 16841]\n",
            "Partition 4711 contains these airports:\n",
            "[10140, 10226, 10397, 10417, 10641, 10755, 10776, 10924, 11281, 11412, 11536, 11846, 11942, 12088, 12269, 12705, 12808, 12823, 12845, 13112, 13768, 13807, 13842, 13874, 13943, 13971, 14103, 14126, 14235, 14486, 14710, 14805, 14806, 14857, 14896, 15050, 15246, 15722, 15786, 15795, 15862, 16669]\n",
            "Partition 4728 contains these airports:\n",
            "[10962, 11368, 11402, 11485, 11998, 12253, 12254, 12611, 12634, 12729, 12774, 12816, 12848, 12858, 12984, 13505, 13694, 14230, 14257, 14271, 15742, 15755, 15794, 15842, 15886, 16341, 16344, 16346, 16347]\n"
          ],
          "name": "stdout"
        }
      ]
    },
    {
      "cell_type": "markdown",
      "metadata": {
        "colab_type": "text",
        "id": "ylF0Y6-fEfa1"
      },
      "source": [
        "Okay great!  If you want to see these communities printed again, or even plot them with matplotlib, here you go.  Otherwise, we've answered our 5 questions.   Hooray!\n",
        "\n",
        "## More Notebooks\n",
        "Just remember, that while Colab is free, most of your time spent is waiting for RAPIDS to install.   The time to insights is much faster if RAPIDS is already installed.  If you have provisioned a machine with the necessary hardware and RAPIDS installed, you can check out our RAPIDS notebooks repos:\n",
        "1. https://github.com/rapidsai/notebooks\n",
        "2. https://github.com/rapidsai/notebooks-contrib\n"
      ]
    },
    {
      "cell_type": "code",
      "metadata": {
        "id": "U-artsUwqRU8",
        "colab_type": "code",
        "colab": {}
      },
      "source": [
        "#print(parts_hgdf_1)"
      ],
      "execution_count": 0,
      "outputs": []
    },
    {
      "cell_type": "code",
      "metadata": {
        "id": "Ejyk6jZXqRU_",
        "colab_type": "code",
        "colab": {}
      },
      "source": [
        "#print(parts_hgdf_2)"
      ],
      "execution_count": 0,
      "outputs": []
    }
  ]
}